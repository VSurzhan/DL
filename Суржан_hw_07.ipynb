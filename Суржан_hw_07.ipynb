{
  "nbformat": 4,
  "nbformat_minor": 0,
  "metadata": {
    "colab": {
      "provenance": [],
      "include_colab_link": true
    },
    "kernelspec": {
      "name": "python3",
      "display_name": "Python 3"
    },
    "language_info": {
      "name": "python"
    },
    "widgets": {
      "application/vnd.jupyter.widget-state+json": {
        "fec698a332d543bba8c997e6c6763a40": {
          "model_module": "@jupyter-widgets/controls",
          "model_name": "HBoxModel",
          "model_module_version": "1.5.0",
          "state": {
            "_dom_classes": [],
            "_model_module": "@jupyter-widgets/controls",
            "_model_module_version": "1.5.0",
            "_model_name": "HBoxModel",
            "_view_count": null,
            "_view_module": "@jupyter-widgets/controls",
            "_view_module_version": "1.5.0",
            "_view_name": "HBoxView",
            "box_style": "",
            "children": [
              "IPY_MODEL_e7a1992fc05b49fe8b49f24318372067",
              "IPY_MODEL_636b0a399a62459890ab534b1a75b412",
              "IPY_MODEL_80b05daa1adc43fb95b28557e3fcb131"
            ],
            "layout": "IPY_MODEL_9be1438d203046aebd31f58551d1b6f3"
          }
        },
        "e7a1992fc05b49fe8b49f24318372067": {
          "model_module": "@jupyter-widgets/controls",
          "model_name": "HTMLModel",
          "model_module_version": "1.5.0",
          "state": {
            "_dom_classes": [],
            "_model_module": "@jupyter-widgets/controls",
            "_model_module_version": "1.5.0",
            "_model_name": "HTMLModel",
            "_view_count": null,
            "_view_module": "@jupyter-widgets/controls",
            "_view_module_version": "1.5.0",
            "_view_name": "HTMLView",
            "description": "",
            "description_tooltip": null,
            "layout": "IPY_MODEL_aca9599e087549cea1ab1fc6fe71126f",
            "placeholder": "​",
            "style": "IPY_MODEL_0b0baef64f11437192bf093e3c12a7f3",
            "value": "100%"
          }
        },
        "636b0a399a62459890ab534b1a75b412": {
          "model_module": "@jupyter-widgets/controls",
          "model_name": "FloatProgressModel",
          "model_module_version": "1.5.0",
          "state": {
            "_dom_classes": [],
            "_model_module": "@jupyter-widgets/controls",
            "_model_module_version": "1.5.0",
            "_model_name": "FloatProgressModel",
            "_view_count": null,
            "_view_module": "@jupyter-widgets/controls",
            "_view_module_version": "1.5.0",
            "_view_name": "ProgressView",
            "bar_style": "success",
            "description": "",
            "description_tooltip": null,
            "layout": "IPY_MODEL_0c1079db6e584a8b871af20a72389aae",
            "max": 1651,
            "min": 0,
            "orientation": "horizontal",
            "style": "IPY_MODEL_af34361998ab4cb0b7c992a76d7c4969",
            "value": 1651
          }
        },
        "80b05daa1adc43fb95b28557e3fcb131": {
          "model_module": "@jupyter-widgets/controls",
          "model_name": "HTMLModel",
          "model_module_version": "1.5.0",
          "state": {
            "_dom_classes": [],
            "_model_module": "@jupyter-widgets/controls",
            "_model_module_version": "1.5.0",
            "_model_name": "HTMLModel",
            "_view_count": null,
            "_view_module": "@jupyter-widgets/controls",
            "_view_module_version": "1.5.0",
            "_view_name": "HTMLView",
            "description": "",
            "description_tooltip": null,
            "layout": "IPY_MODEL_08a43a1da94844079276ad34436466db",
            "placeholder": "​",
            "style": "IPY_MODEL_04dc08ccd9f4407381846e2660c08cab",
            "value": " 1651/1651 [00:03&lt;00:00, 432.90it/s]"
          }
        },
        "9be1438d203046aebd31f58551d1b6f3": {
          "model_module": "@jupyter-widgets/base",
          "model_name": "LayoutModel",
          "model_module_version": "1.2.0",
          "state": {
            "_model_module": "@jupyter-widgets/base",
            "_model_module_version": "1.2.0",
            "_model_name": "LayoutModel",
            "_view_count": null,
            "_view_module": "@jupyter-widgets/base",
            "_view_module_version": "1.2.0",
            "_view_name": "LayoutView",
            "align_content": null,
            "align_items": null,
            "align_self": null,
            "border": null,
            "bottom": null,
            "display": null,
            "flex": null,
            "flex_flow": null,
            "grid_area": null,
            "grid_auto_columns": null,
            "grid_auto_flow": null,
            "grid_auto_rows": null,
            "grid_column": null,
            "grid_gap": null,
            "grid_row": null,
            "grid_template_areas": null,
            "grid_template_columns": null,
            "grid_template_rows": null,
            "height": null,
            "justify_content": null,
            "justify_items": null,
            "left": null,
            "margin": null,
            "max_height": null,
            "max_width": null,
            "min_height": null,
            "min_width": null,
            "object_fit": null,
            "object_position": null,
            "order": null,
            "overflow": null,
            "overflow_x": null,
            "overflow_y": null,
            "padding": null,
            "right": null,
            "top": null,
            "visibility": null,
            "width": null
          }
        },
        "aca9599e087549cea1ab1fc6fe71126f": {
          "model_module": "@jupyter-widgets/base",
          "model_name": "LayoutModel",
          "model_module_version": "1.2.0",
          "state": {
            "_model_module": "@jupyter-widgets/base",
            "_model_module_version": "1.2.0",
            "_model_name": "LayoutModel",
            "_view_count": null,
            "_view_module": "@jupyter-widgets/base",
            "_view_module_version": "1.2.0",
            "_view_name": "LayoutView",
            "align_content": null,
            "align_items": null,
            "align_self": null,
            "border": null,
            "bottom": null,
            "display": null,
            "flex": null,
            "flex_flow": null,
            "grid_area": null,
            "grid_auto_columns": null,
            "grid_auto_flow": null,
            "grid_auto_rows": null,
            "grid_column": null,
            "grid_gap": null,
            "grid_row": null,
            "grid_template_areas": null,
            "grid_template_columns": null,
            "grid_template_rows": null,
            "height": null,
            "justify_content": null,
            "justify_items": null,
            "left": null,
            "margin": null,
            "max_height": null,
            "max_width": null,
            "min_height": null,
            "min_width": null,
            "object_fit": null,
            "object_position": null,
            "order": null,
            "overflow": null,
            "overflow_x": null,
            "overflow_y": null,
            "padding": null,
            "right": null,
            "top": null,
            "visibility": null,
            "width": null
          }
        },
        "0b0baef64f11437192bf093e3c12a7f3": {
          "model_module": "@jupyter-widgets/controls",
          "model_name": "DescriptionStyleModel",
          "model_module_version": "1.5.0",
          "state": {
            "_model_module": "@jupyter-widgets/controls",
            "_model_module_version": "1.5.0",
            "_model_name": "DescriptionStyleModel",
            "_view_count": null,
            "_view_module": "@jupyter-widgets/base",
            "_view_module_version": "1.2.0",
            "_view_name": "StyleView",
            "description_width": ""
          }
        },
        "0c1079db6e584a8b871af20a72389aae": {
          "model_module": "@jupyter-widgets/base",
          "model_name": "LayoutModel",
          "model_module_version": "1.2.0",
          "state": {
            "_model_module": "@jupyter-widgets/base",
            "_model_module_version": "1.2.0",
            "_model_name": "LayoutModel",
            "_view_count": null,
            "_view_module": "@jupyter-widgets/base",
            "_view_module_version": "1.2.0",
            "_view_name": "LayoutView",
            "align_content": null,
            "align_items": null,
            "align_self": null,
            "border": null,
            "bottom": null,
            "display": null,
            "flex": null,
            "flex_flow": null,
            "grid_area": null,
            "grid_auto_columns": null,
            "grid_auto_flow": null,
            "grid_auto_rows": null,
            "grid_column": null,
            "grid_gap": null,
            "grid_row": null,
            "grid_template_areas": null,
            "grid_template_columns": null,
            "grid_template_rows": null,
            "height": null,
            "justify_content": null,
            "justify_items": null,
            "left": null,
            "margin": null,
            "max_height": null,
            "max_width": null,
            "min_height": null,
            "min_width": null,
            "object_fit": null,
            "object_position": null,
            "order": null,
            "overflow": null,
            "overflow_x": null,
            "overflow_y": null,
            "padding": null,
            "right": null,
            "top": null,
            "visibility": null,
            "width": null
          }
        },
        "af34361998ab4cb0b7c992a76d7c4969": {
          "model_module": "@jupyter-widgets/controls",
          "model_name": "ProgressStyleModel",
          "model_module_version": "1.5.0",
          "state": {
            "_model_module": "@jupyter-widgets/controls",
            "_model_module_version": "1.5.0",
            "_model_name": "ProgressStyleModel",
            "_view_count": null,
            "_view_module": "@jupyter-widgets/base",
            "_view_module_version": "1.2.0",
            "_view_name": "StyleView",
            "bar_color": null,
            "description_width": ""
          }
        },
        "08a43a1da94844079276ad34436466db": {
          "model_module": "@jupyter-widgets/base",
          "model_name": "LayoutModel",
          "model_module_version": "1.2.0",
          "state": {
            "_model_module": "@jupyter-widgets/base",
            "_model_module_version": "1.2.0",
            "_model_name": "LayoutModel",
            "_view_count": null,
            "_view_module": "@jupyter-widgets/base",
            "_view_module_version": "1.2.0",
            "_view_name": "LayoutView",
            "align_content": null,
            "align_items": null,
            "align_self": null,
            "border": null,
            "bottom": null,
            "display": null,
            "flex": null,
            "flex_flow": null,
            "grid_area": null,
            "grid_auto_columns": null,
            "grid_auto_flow": null,
            "grid_auto_rows": null,
            "grid_column": null,
            "grid_gap": null,
            "grid_row": null,
            "grid_template_areas": null,
            "grid_template_columns": null,
            "grid_template_rows": null,
            "height": null,
            "justify_content": null,
            "justify_items": null,
            "left": null,
            "margin": null,
            "max_height": null,
            "max_width": null,
            "min_height": null,
            "min_width": null,
            "object_fit": null,
            "object_position": null,
            "order": null,
            "overflow": null,
            "overflow_x": null,
            "overflow_y": null,
            "padding": null,
            "right": null,
            "top": null,
            "visibility": null,
            "width": null
          }
        },
        "04dc08ccd9f4407381846e2660c08cab": {
          "model_module": "@jupyter-widgets/controls",
          "model_name": "DescriptionStyleModel",
          "model_module_version": "1.5.0",
          "state": {
            "_model_module": "@jupyter-widgets/controls",
            "_model_module_version": "1.5.0",
            "_model_name": "DescriptionStyleModel",
            "_view_count": null,
            "_view_module": "@jupyter-widgets/base",
            "_view_module_version": "1.2.0",
            "_view_name": "StyleView",
            "description_width": ""
          }
        },
        "1bffb8ca1e144bfc8f760ee17c322d3f": {
          "model_module": "@jupyter-widgets/controls",
          "model_name": "HBoxModel",
          "model_module_version": "1.5.0",
          "state": {
            "_dom_classes": [],
            "_model_module": "@jupyter-widgets/controls",
            "_model_module_version": "1.5.0",
            "_model_name": "HBoxModel",
            "_view_count": null,
            "_view_module": "@jupyter-widgets/controls",
            "_view_module_version": "1.5.0",
            "_view_name": "HBoxView",
            "box_style": "",
            "children": [
              "IPY_MODEL_4923cb3e55f54a90916284970323a0ba",
              "IPY_MODEL_650b7873929243eb95ba6ebd9258e5cd",
              "IPY_MODEL_ccdb8c57b07c45298f49664840755a7e"
            ],
            "layout": "IPY_MODEL_036dcb4c104c48a2986ef27cfc40a838"
          }
        },
        "4923cb3e55f54a90916284970323a0ba": {
          "model_module": "@jupyter-widgets/controls",
          "model_name": "HTMLModel",
          "model_module_version": "1.5.0",
          "state": {
            "_dom_classes": [],
            "_model_module": "@jupyter-widgets/controls",
            "_model_module_version": "1.5.0",
            "_model_name": "HTMLModel",
            "_view_count": null,
            "_view_module": "@jupyter-widgets/controls",
            "_view_module_version": "1.5.0",
            "_view_name": "HTMLView",
            "description": "",
            "description_tooltip": null,
            "layout": "IPY_MODEL_73cd361f97d548ff9f14a6a44fdeaee1",
            "placeholder": "​",
            "style": "IPY_MODEL_d14fb652ae1846a8ad428d28d4e37d6c",
            "value": "100%"
          }
        },
        "650b7873929243eb95ba6ebd9258e5cd": {
          "model_module": "@jupyter-widgets/controls",
          "model_name": "FloatProgressModel",
          "model_module_version": "1.5.0",
          "state": {
            "_dom_classes": [],
            "_model_module": "@jupyter-widgets/controls",
            "_model_module_version": "1.5.0",
            "_model_name": "FloatProgressModel",
            "_view_count": null,
            "_view_module": "@jupyter-widgets/controls",
            "_view_module_version": "1.5.0",
            "_view_name": "ProgressView",
            "bar_style": "success",
            "description": "",
            "description_tooltip": null,
            "layout": "IPY_MODEL_2b582fffb3cb4603bb562b3004b103b5",
            "max": 1651,
            "min": 0,
            "orientation": "horizontal",
            "style": "IPY_MODEL_0d771f9ba2e540c8835d9f046359377c",
            "value": 1651
          }
        },
        "ccdb8c57b07c45298f49664840755a7e": {
          "model_module": "@jupyter-widgets/controls",
          "model_name": "HTMLModel",
          "model_module_version": "1.5.0",
          "state": {
            "_dom_classes": [],
            "_model_module": "@jupyter-widgets/controls",
            "_model_module_version": "1.5.0",
            "_model_name": "HTMLModel",
            "_view_count": null,
            "_view_module": "@jupyter-widgets/controls",
            "_view_module_version": "1.5.0",
            "_view_name": "HTMLView",
            "description": "",
            "description_tooltip": null,
            "layout": "IPY_MODEL_f6cfb1264e4a4813b3eb736d096122f4",
            "placeholder": "​",
            "style": "IPY_MODEL_8b762586f1104865bda24446d89f5139",
            "value": " 1651/1651 [00:03&lt;00:00, 725.07it/s]"
          }
        },
        "036dcb4c104c48a2986ef27cfc40a838": {
          "model_module": "@jupyter-widgets/base",
          "model_name": "LayoutModel",
          "model_module_version": "1.2.0",
          "state": {
            "_model_module": "@jupyter-widgets/base",
            "_model_module_version": "1.2.0",
            "_model_name": "LayoutModel",
            "_view_count": null,
            "_view_module": "@jupyter-widgets/base",
            "_view_module_version": "1.2.0",
            "_view_name": "LayoutView",
            "align_content": null,
            "align_items": null,
            "align_self": null,
            "border": null,
            "bottom": null,
            "display": null,
            "flex": null,
            "flex_flow": null,
            "grid_area": null,
            "grid_auto_columns": null,
            "grid_auto_flow": null,
            "grid_auto_rows": null,
            "grid_column": null,
            "grid_gap": null,
            "grid_row": null,
            "grid_template_areas": null,
            "grid_template_columns": null,
            "grid_template_rows": null,
            "height": null,
            "justify_content": null,
            "justify_items": null,
            "left": null,
            "margin": null,
            "max_height": null,
            "max_width": null,
            "min_height": null,
            "min_width": null,
            "object_fit": null,
            "object_position": null,
            "order": null,
            "overflow": null,
            "overflow_x": null,
            "overflow_y": null,
            "padding": null,
            "right": null,
            "top": null,
            "visibility": null,
            "width": null
          }
        },
        "73cd361f97d548ff9f14a6a44fdeaee1": {
          "model_module": "@jupyter-widgets/base",
          "model_name": "LayoutModel",
          "model_module_version": "1.2.0",
          "state": {
            "_model_module": "@jupyter-widgets/base",
            "_model_module_version": "1.2.0",
            "_model_name": "LayoutModel",
            "_view_count": null,
            "_view_module": "@jupyter-widgets/base",
            "_view_module_version": "1.2.0",
            "_view_name": "LayoutView",
            "align_content": null,
            "align_items": null,
            "align_self": null,
            "border": null,
            "bottom": null,
            "display": null,
            "flex": null,
            "flex_flow": null,
            "grid_area": null,
            "grid_auto_columns": null,
            "grid_auto_flow": null,
            "grid_auto_rows": null,
            "grid_column": null,
            "grid_gap": null,
            "grid_row": null,
            "grid_template_areas": null,
            "grid_template_columns": null,
            "grid_template_rows": null,
            "height": null,
            "justify_content": null,
            "justify_items": null,
            "left": null,
            "margin": null,
            "max_height": null,
            "max_width": null,
            "min_height": null,
            "min_width": null,
            "object_fit": null,
            "object_position": null,
            "order": null,
            "overflow": null,
            "overflow_x": null,
            "overflow_y": null,
            "padding": null,
            "right": null,
            "top": null,
            "visibility": null,
            "width": null
          }
        },
        "d14fb652ae1846a8ad428d28d4e37d6c": {
          "model_module": "@jupyter-widgets/controls",
          "model_name": "DescriptionStyleModel",
          "model_module_version": "1.5.0",
          "state": {
            "_model_module": "@jupyter-widgets/controls",
            "_model_module_version": "1.5.0",
            "_model_name": "DescriptionStyleModel",
            "_view_count": null,
            "_view_module": "@jupyter-widgets/base",
            "_view_module_version": "1.2.0",
            "_view_name": "StyleView",
            "description_width": ""
          }
        },
        "2b582fffb3cb4603bb562b3004b103b5": {
          "model_module": "@jupyter-widgets/base",
          "model_name": "LayoutModel",
          "model_module_version": "1.2.0",
          "state": {
            "_model_module": "@jupyter-widgets/base",
            "_model_module_version": "1.2.0",
            "_model_name": "LayoutModel",
            "_view_count": null,
            "_view_module": "@jupyter-widgets/base",
            "_view_module_version": "1.2.0",
            "_view_name": "LayoutView",
            "align_content": null,
            "align_items": null,
            "align_self": null,
            "border": null,
            "bottom": null,
            "display": null,
            "flex": null,
            "flex_flow": null,
            "grid_area": null,
            "grid_auto_columns": null,
            "grid_auto_flow": null,
            "grid_auto_rows": null,
            "grid_column": null,
            "grid_gap": null,
            "grid_row": null,
            "grid_template_areas": null,
            "grid_template_columns": null,
            "grid_template_rows": null,
            "height": null,
            "justify_content": null,
            "justify_items": null,
            "left": null,
            "margin": null,
            "max_height": null,
            "max_width": null,
            "min_height": null,
            "min_width": null,
            "object_fit": null,
            "object_position": null,
            "order": null,
            "overflow": null,
            "overflow_x": null,
            "overflow_y": null,
            "padding": null,
            "right": null,
            "top": null,
            "visibility": null,
            "width": null
          }
        },
        "0d771f9ba2e540c8835d9f046359377c": {
          "model_module": "@jupyter-widgets/controls",
          "model_name": "ProgressStyleModel",
          "model_module_version": "1.5.0",
          "state": {
            "_model_module": "@jupyter-widgets/controls",
            "_model_module_version": "1.5.0",
            "_model_name": "ProgressStyleModel",
            "_view_count": null,
            "_view_module": "@jupyter-widgets/base",
            "_view_module_version": "1.2.0",
            "_view_name": "StyleView",
            "bar_color": null,
            "description_width": ""
          }
        },
        "f6cfb1264e4a4813b3eb736d096122f4": {
          "model_module": "@jupyter-widgets/base",
          "model_name": "LayoutModel",
          "model_module_version": "1.2.0",
          "state": {
            "_model_module": "@jupyter-widgets/base",
            "_model_module_version": "1.2.0",
            "_model_name": "LayoutModel",
            "_view_count": null,
            "_view_module": "@jupyter-widgets/base",
            "_view_module_version": "1.2.0",
            "_view_name": "LayoutView",
            "align_content": null,
            "align_items": null,
            "align_self": null,
            "border": null,
            "bottom": null,
            "display": null,
            "flex": null,
            "flex_flow": null,
            "grid_area": null,
            "grid_auto_columns": null,
            "grid_auto_flow": null,
            "grid_auto_rows": null,
            "grid_column": null,
            "grid_gap": null,
            "grid_row": null,
            "grid_template_areas": null,
            "grid_template_columns": null,
            "grid_template_rows": null,
            "height": null,
            "justify_content": null,
            "justify_items": null,
            "left": null,
            "margin": null,
            "max_height": null,
            "max_width": null,
            "min_height": null,
            "min_width": null,
            "object_fit": null,
            "object_position": null,
            "order": null,
            "overflow": null,
            "overflow_x": null,
            "overflow_y": null,
            "padding": null,
            "right": null,
            "top": null,
            "visibility": null,
            "width": null
          }
        },
        "8b762586f1104865bda24446d89f5139": {
          "model_module": "@jupyter-widgets/controls",
          "model_name": "DescriptionStyleModel",
          "model_module_version": "1.5.0",
          "state": {
            "_model_module": "@jupyter-widgets/controls",
            "_model_module_version": "1.5.0",
            "_model_name": "DescriptionStyleModel",
            "_view_count": null,
            "_view_module": "@jupyter-widgets/base",
            "_view_module_version": "1.2.0",
            "_view_name": "StyleView",
            "description_width": ""
          }
        }
      }
    }
  },
  "cells": [
    {
      "cell_type": "markdown",
      "metadata": {
        "id": "view-in-github",
        "colab_type": "text"
      },
      "source": [
        "<a href=\"https://colab.research.google.com/github/VSurzhan/DL/blob/main/%D0%A1%D1%83%D1%80%D0%B6%D0%B0%D0%BD_hw_07.ipynb\" target=\"_parent\"><img src=\"https://colab.research.google.com/assets/colab-badge.svg\" alt=\"Open In Colab\"/></a>"
      ]
    },
    {
      "cell_type": "markdown",
      "source": [
        "# Домашнее задание. Нейросетевая классификация текстов\n",
        "\n",
        "В этом домашнем задании вам предстоит самостоятельно решить задачу классификации текстов. Вы будете классифицировать тксты писателей по авторству. Всего 8 разных авторов.\n",
        "\n",
        "Скачаем датасет:"
      ],
      "metadata": {
        "id": "d0ADTojbpfLt"
      }
    },
    {
      "cell_type": "code",
      "source": [
        "!wget -O train_authors.csv https://raw.githubusercontent.com/MSUcourses/Data-Analysis-with-Python/main/Deep%20Learning/Files/train_authors.csv"
      ],
      "metadata": {
        "colab": {
          "base_uri": "https://localhost:8080/"
        },
        "id": "VRyCeJprfreo",
        "outputId": "d773bbe5-d54a-495b-b5e4-329f41713665"
      },
      "execution_count": null,
      "outputs": [
        {
          "output_type": "stream",
          "name": "stdout",
          "text": [
            "--2024-04-06 17:13:29--  https://raw.githubusercontent.com/MSUcourses/Data-Analysis-with-Python/main/Deep%20Learning/Files/train_authors.csv\n",
            "Resolving raw.githubusercontent.com (raw.githubusercontent.com)... 185.199.108.133, 185.199.109.133, 185.199.110.133, ...\n",
            "Connecting to raw.githubusercontent.com (raw.githubusercontent.com)|185.199.108.133|:443... connected.\n",
            "HTTP request sent, awaiting response... 200 OK\n",
            "Length: 4883974 (4.7M) [text/plain]\n",
            "Saving to: ‘train_authors.csv’\n",
            "\n",
            "train_authors.csv   100%[===================>]   4.66M  --.-KB/s    in 0.1s    \n",
            "\n",
            "2024-04-06 17:13:30 (39.3 MB/s) - ‘train_authors.csv’ saved [4883974/4883974]\n",
            "\n"
          ]
        }
      ]
    },
    {
      "cell_type": "code",
      "source": [
        "!wget -O test_authors.csv https://raw.githubusercontent.com/MSUcourses/Data-Analysis-with-Python/main/Deep%20Learning/Files/test_authors.csv"
      ],
      "metadata": {
        "colab": {
          "base_uri": "https://localhost:8080/"
        },
        "id": "WN8anvmnfgVp",
        "outputId": "c77d2278-5ed3-4e17-e533-a58e62b9fbca"
      },
      "execution_count": null,
      "outputs": [
        {
          "output_type": "stream",
          "name": "stdout",
          "text": [
            "--2024-04-06 17:13:31--  https://raw.githubusercontent.com/MSUcourses/Data-Analysis-with-Python/main/Deep%20Learning/Files/test_authors.csv\n",
            "Resolving raw.githubusercontent.com (raw.githubusercontent.com)... 185.199.108.133, 185.199.109.133, 185.199.110.133, ...\n",
            "Connecting to raw.githubusercontent.com (raw.githubusercontent.com)|185.199.108.133|:443... connected.\n",
            "HTTP request sent, awaiting response... 200 OK\n",
            "Length: 4871403 (4.6M) [text/plain]\n",
            "Saving to: ‘test_authors.csv’\n",
            "\n",
            "test_authors.csv    100%[===================>]   4.65M  --.-KB/s    in 0.1s    \n",
            "\n",
            "2024-04-06 17:13:32 (43.8 MB/s) - ‘test_authors.csv’ saved [4871403/4871403]\n",
            "\n"
          ]
        }
      ]
    },
    {
      "cell_type": "markdown",
      "source": [
        "Импортируем необходимые библиотеки:"
      ],
      "metadata": {
        "id": "rh9ZXSeCpng9"
      }
    },
    {
      "cell_type": "code",
      "source": [
        "import torch\n",
        "import torch.nn as nn\n",
        "from torch.utils.data import Dataset, DataLoader\n",
        "\n",
        "import numpy as np\n",
        "import matplotlib.pyplot as plt\n",
        "\n",
        "from tqdm.auto import tqdm\n",
        "from nltk.tokenize import word_tokenize\n",
        "from sklearn.model_selection import train_test_split\n",
        "import nltk\n",
        "from tqdm import tqdm_notebook\n",
        "import torch.nn as nn                                                             # тут все блоки нейронных сетей, слои\n",
        "import torch.nn.functional as F\n",
        "\n",
        "from collections import Counter\n",
        "from typing import List\n",
        "import string\n",
        "\n",
        "import seaborn\n",
        "seaborn.set(palette='summer')\n",
        "\n",
        "# скачиваем нужный пакет данных для работы библиотеки nltk\n",
        "nltk.download('punkt')"
      ],
      "metadata": {
        "id": "XOJi16bLpd_O",
        "colab": {
          "base_uri": "https://localhost:8080/"
        },
        "outputId": "5f668867-ab1f-4d02-8050-d46ca0510186"
      },
      "execution_count": null,
      "outputs": [
        {
          "output_type": "stream",
          "name": "stderr",
          "text": [
            "[nltk_data] Downloading package punkt to /root/nltk_data...\n",
            "[nltk_data]   Unzipping tokenizers/punkt.zip.\n"
          ]
        },
        {
          "output_type": "execute_result",
          "data": {
            "text/plain": [
              "True"
            ]
          },
          "metadata": {},
          "execution_count": 3
        }
      ]
    },
    {
      "cell_type": "code",
      "source": [
        "device = 'cuda' if torch.cuda.is_available() else 'cpu'\n",
        "device"
      ],
      "metadata": {
        "id": "adJC8ShFq9HM",
        "colab": {
          "base_uri": "https://localhost:8080/",
          "height": 35
        },
        "outputId": "d08919f0-c4dd-4978-d45e-6f367e0ce160"
      },
      "execution_count": null,
      "outputs": [
        {
          "output_type": "execute_result",
          "data": {
            "text/plain": [
              "'cpu'"
            ],
            "application/vnd.google.colaboratory.intrinsic+json": {
              "type": "string"
            }
          },
          "metadata": {},
          "execution_count": 4
        }
      ]
    },
    {
      "cell_type": "markdown",
      "source": [
        "## Подготовка данных\n",
        "\n",
        "Загрузим даатсет и посмотрим на данные:"
      ],
      "metadata": {
        "id": "pwsfS1ENq5ig"
      }
    },
    {
      "cell_type": "code",
      "source": [
        "# Загрузим датасет\n",
        "import pandas as pd\n",
        "train_data = pd.read_csv('train_authors.csv')\n",
        "train_data.head()"
      ],
      "metadata": {
        "id": "qHLNWOfJqSfc",
        "colab": {
          "base_uri": "https://localhost:8080/",
          "height": 204
        },
        "outputId": "571702a9-1e4d-4f88-f3c3-f19208488edf"
      },
      "execution_count": null,
      "outputs": [
        {
          "output_type": "execute_result",
          "data": {
            "text/plain": [
              "                                                text      label\n",
              "0  -Да, я поторопился. Капитан, примите мои извин...  Pratchett\n",
              "1  -Похороны по первому разряду! Довольно благоро...     Remark\n",
              "2  Третий округ штата Мэн настолько велик, что ег...       King\n",
              "3  В мире существуют миллиарды и миллиарды богов....  Pratchett\n",
              "4  Особенность историографии киевского периода со...     Akunin"
            ],
            "text/html": [
              "\n",
              "  <div id=\"df-d89bf40a-2c6d-49cf-a650-0af2684427ac\" class=\"colab-df-container\">\n",
              "    <div>\n",
              "<style scoped>\n",
              "    .dataframe tbody tr th:only-of-type {\n",
              "        vertical-align: middle;\n",
              "    }\n",
              "\n",
              "    .dataframe tbody tr th {\n",
              "        vertical-align: top;\n",
              "    }\n",
              "\n",
              "    .dataframe thead th {\n",
              "        text-align: right;\n",
              "    }\n",
              "</style>\n",
              "<table border=\"1\" class=\"dataframe\">\n",
              "  <thead>\n",
              "    <tr style=\"text-align: right;\">\n",
              "      <th></th>\n",
              "      <th>text</th>\n",
              "      <th>label</th>\n",
              "    </tr>\n",
              "  </thead>\n",
              "  <tbody>\n",
              "    <tr>\n",
              "      <th>0</th>\n",
              "      <td>-Да, я поторопился. Капитан, примите мои извин...</td>\n",
              "      <td>Pratchett</td>\n",
              "    </tr>\n",
              "    <tr>\n",
              "      <th>1</th>\n",
              "      <td>-Похороны по первому разряду! Довольно благоро...</td>\n",
              "      <td>Remark</td>\n",
              "    </tr>\n",
              "    <tr>\n",
              "      <th>2</th>\n",
              "      <td>Третий округ штата Мэн настолько велик, что ег...</td>\n",
              "      <td>King</td>\n",
              "    </tr>\n",
              "    <tr>\n",
              "      <th>3</th>\n",
              "      <td>В мире существуют миллиарды и миллиарды богов....</td>\n",
              "      <td>Pratchett</td>\n",
              "    </tr>\n",
              "    <tr>\n",
              "      <th>4</th>\n",
              "      <td>Особенность историографии киевского периода со...</td>\n",
              "      <td>Akunin</td>\n",
              "    </tr>\n",
              "  </tbody>\n",
              "</table>\n",
              "</div>\n",
              "    <div class=\"colab-df-buttons\">\n",
              "\n",
              "  <div class=\"colab-df-container\">\n",
              "    <button class=\"colab-df-convert\" onclick=\"convertToInteractive('df-d89bf40a-2c6d-49cf-a650-0af2684427ac')\"\n",
              "            title=\"Convert this dataframe to an interactive table.\"\n",
              "            style=\"display:none;\">\n",
              "\n",
              "  <svg xmlns=\"http://www.w3.org/2000/svg\" height=\"24px\" viewBox=\"0 -960 960 960\">\n",
              "    <path d=\"M120-120v-720h720v720H120Zm60-500h600v-160H180v160Zm220 220h160v-160H400v160Zm0 220h160v-160H400v160ZM180-400h160v-160H180v160Zm440 0h160v-160H620v160ZM180-180h160v-160H180v160Zm440 0h160v-160H620v160Z\"/>\n",
              "  </svg>\n",
              "    </button>\n",
              "\n",
              "  <style>\n",
              "    .colab-df-container {\n",
              "      display:flex;\n",
              "      gap: 12px;\n",
              "    }\n",
              "\n",
              "    .colab-df-convert {\n",
              "      background-color: #E8F0FE;\n",
              "      border: none;\n",
              "      border-radius: 50%;\n",
              "      cursor: pointer;\n",
              "      display: none;\n",
              "      fill: #1967D2;\n",
              "      height: 32px;\n",
              "      padding: 0 0 0 0;\n",
              "      width: 32px;\n",
              "    }\n",
              "\n",
              "    .colab-df-convert:hover {\n",
              "      background-color: #E2EBFA;\n",
              "      box-shadow: 0px 1px 2px rgba(60, 64, 67, 0.3), 0px 1px 3px 1px rgba(60, 64, 67, 0.15);\n",
              "      fill: #174EA6;\n",
              "    }\n",
              "\n",
              "    .colab-df-buttons div {\n",
              "      margin-bottom: 4px;\n",
              "    }\n",
              "\n",
              "    [theme=dark] .colab-df-convert {\n",
              "      background-color: #3B4455;\n",
              "      fill: #D2E3FC;\n",
              "    }\n",
              "\n",
              "    [theme=dark] .colab-df-convert:hover {\n",
              "      background-color: #434B5C;\n",
              "      box-shadow: 0px 1px 3px 1px rgba(0, 0, 0, 0.15);\n",
              "      filter: drop-shadow(0px 1px 2px rgba(0, 0, 0, 0.3));\n",
              "      fill: #FFFFFF;\n",
              "    }\n",
              "  </style>\n",
              "\n",
              "    <script>\n",
              "      const buttonEl =\n",
              "        document.querySelector('#df-d89bf40a-2c6d-49cf-a650-0af2684427ac button.colab-df-convert');\n",
              "      buttonEl.style.display =\n",
              "        google.colab.kernel.accessAllowed ? 'block' : 'none';\n",
              "\n",
              "      async function convertToInteractive(key) {\n",
              "        const element = document.querySelector('#df-d89bf40a-2c6d-49cf-a650-0af2684427ac');\n",
              "        const dataTable =\n",
              "          await google.colab.kernel.invokeFunction('convertToInteractive',\n",
              "                                                    [key], {});\n",
              "        if (!dataTable) return;\n",
              "\n",
              "        const docLinkHtml = 'Like what you see? Visit the ' +\n",
              "          '<a target=\"_blank\" href=https://colab.research.google.com/notebooks/data_table.ipynb>data table notebook</a>'\n",
              "          + ' to learn more about interactive tables.';\n",
              "        element.innerHTML = '';\n",
              "        dataTable['output_type'] = 'display_data';\n",
              "        await google.colab.output.renderOutput(dataTable, element);\n",
              "        const docLink = document.createElement('div');\n",
              "        docLink.innerHTML = docLinkHtml;\n",
              "        element.appendChild(docLink);\n",
              "      }\n",
              "    </script>\n",
              "  </div>\n",
              "\n",
              "\n",
              "<div id=\"df-1650f75b-b367-4224-ac2e-6e9d72a00b79\">\n",
              "  <button class=\"colab-df-quickchart\" onclick=\"quickchart('df-1650f75b-b367-4224-ac2e-6e9d72a00b79')\"\n",
              "            title=\"Suggest charts\"\n",
              "            style=\"display:none;\">\n",
              "\n",
              "<svg xmlns=\"http://www.w3.org/2000/svg\" height=\"24px\"viewBox=\"0 0 24 24\"\n",
              "     width=\"24px\">\n",
              "    <g>\n",
              "        <path d=\"M19 3H5c-1.1 0-2 .9-2 2v14c0 1.1.9 2 2 2h14c1.1 0 2-.9 2-2V5c0-1.1-.9-2-2-2zM9 17H7v-7h2v7zm4 0h-2V7h2v10zm4 0h-2v-4h2v4z\"/>\n",
              "    </g>\n",
              "</svg>\n",
              "  </button>\n",
              "\n",
              "<style>\n",
              "  .colab-df-quickchart {\n",
              "      --bg-color: #E8F0FE;\n",
              "      --fill-color: #1967D2;\n",
              "      --hover-bg-color: #E2EBFA;\n",
              "      --hover-fill-color: #174EA6;\n",
              "      --disabled-fill-color: #AAA;\n",
              "      --disabled-bg-color: #DDD;\n",
              "  }\n",
              "\n",
              "  [theme=dark] .colab-df-quickchart {\n",
              "      --bg-color: #3B4455;\n",
              "      --fill-color: #D2E3FC;\n",
              "      --hover-bg-color: #434B5C;\n",
              "      --hover-fill-color: #FFFFFF;\n",
              "      --disabled-bg-color: #3B4455;\n",
              "      --disabled-fill-color: #666;\n",
              "  }\n",
              "\n",
              "  .colab-df-quickchart {\n",
              "    background-color: var(--bg-color);\n",
              "    border: none;\n",
              "    border-radius: 50%;\n",
              "    cursor: pointer;\n",
              "    display: none;\n",
              "    fill: var(--fill-color);\n",
              "    height: 32px;\n",
              "    padding: 0;\n",
              "    width: 32px;\n",
              "  }\n",
              "\n",
              "  .colab-df-quickchart:hover {\n",
              "    background-color: var(--hover-bg-color);\n",
              "    box-shadow: 0 1px 2px rgba(60, 64, 67, 0.3), 0 1px 3px 1px rgba(60, 64, 67, 0.15);\n",
              "    fill: var(--button-hover-fill-color);\n",
              "  }\n",
              "\n",
              "  .colab-df-quickchart-complete:disabled,\n",
              "  .colab-df-quickchart-complete:disabled:hover {\n",
              "    background-color: var(--disabled-bg-color);\n",
              "    fill: var(--disabled-fill-color);\n",
              "    box-shadow: none;\n",
              "  }\n",
              "\n",
              "  .colab-df-spinner {\n",
              "    border: 2px solid var(--fill-color);\n",
              "    border-color: transparent;\n",
              "    border-bottom-color: var(--fill-color);\n",
              "    animation:\n",
              "      spin 1s steps(1) infinite;\n",
              "  }\n",
              "\n",
              "  @keyframes spin {\n",
              "    0% {\n",
              "      border-color: transparent;\n",
              "      border-bottom-color: var(--fill-color);\n",
              "      border-left-color: var(--fill-color);\n",
              "    }\n",
              "    20% {\n",
              "      border-color: transparent;\n",
              "      border-left-color: var(--fill-color);\n",
              "      border-top-color: var(--fill-color);\n",
              "    }\n",
              "    30% {\n",
              "      border-color: transparent;\n",
              "      border-left-color: var(--fill-color);\n",
              "      border-top-color: var(--fill-color);\n",
              "      border-right-color: var(--fill-color);\n",
              "    }\n",
              "    40% {\n",
              "      border-color: transparent;\n",
              "      border-right-color: var(--fill-color);\n",
              "      border-top-color: var(--fill-color);\n",
              "    }\n",
              "    60% {\n",
              "      border-color: transparent;\n",
              "      border-right-color: var(--fill-color);\n",
              "    }\n",
              "    80% {\n",
              "      border-color: transparent;\n",
              "      border-right-color: var(--fill-color);\n",
              "      border-bottom-color: var(--fill-color);\n",
              "    }\n",
              "    90% {\n",
              "      border-color: transparent;\n",
              "      border-bottom-color: var(--fill-color);\n",
              "    }\n",
              "  }\n",
              "</style>\n",
              "\n",
              "  <script>\n",
              "    async function quickchart(key) {\n",
              "      const quickchartButtonEl =\n",
              "        document.querySelector('#' + key + ' button');\n",
              "      quickchartButtonEl.disabled = true;  // To prevent multiple clicks.\n",
              "      quickchartButtonEl.classList.add('colab-df-spinner');\n",
              "      try {\n",
              "        const charts = await google.colab.kernel.invokeFunction(\n",
              "            'suggestCharts', [key], {});\n",
              "      } catch (error) {\n",
              "        console.error('Error during call to suggestCharts:', error);\n",
              "      }\n",
              "      quickchartButtonEl.classList.remove('colab-df-spinner');\n",
              "      quickchartButtonEl.classList.add('colab-df-quickchart-complete');\n",
              "    }\n",
              "    (() => {\n",
              "      let quickchartButtonEl =\n",
              "        document.querySelector('#df-1650f75b-b367-4224-ac2e-6e9d72a00b79 button');\n",
              "      quickchartButtonEl.style.display =\n",
              "        google.colab.kernel.accessAllowed ? 'block' : 'none';\n",
              "    })();\n",
              "  </script>\n",
              "</div>\n",
              "    </div>\n",
              "  </div>\n"
            ],
            "application/vnd.google.colaboratory.intrinsic+json": {
              "type": "dataframe",
              "variable_name": "train_data",
              "summary": "{\n  \"name\": \"train_data\",\n  \"rows\": 1651,\n  \"fields\": [\n    {\n      \"column\": \"text\",\n      \"properties\": {\n        \"dtype\": \"string\",\n        \"num_unique_values\": 1585,\n        \"samples\": [\n          \"-\\u041c\\u043d\\u0435 \\u043c\\u043e\\u0436\\u043d\\u043e. \\u042f \\u0432\\u0441\\u0435\\u043c \\u0433\\u043e\\u0432\\u043e\\u0440\\u0438\\u043b\\u0430, \\u0447\\u0442\\u043e \\u044f \\u0442\\u0432\\u043e\\u044f \\u0434\\u043e\\u0447\\u043a\\u0430. \\u0418 \\u043c\\u0435\\u043d\\u044f \\u043f\\u0443\\u0441\\u0442\\u0438\\u043b\\u0438.\\n-\\u0422\\u044b \\u0437\\u043d\\u0430\\u0435\\u0448\\u044c, \\u0447\\u0442\\u043e \\u043f\\u043e\\u043b\\u044c\\u0437\\u043e\\u0432\\u0430\\u0442\\u044c\\u0441\\u044f \\u0437\\u043d\\u0430\\u043a\\u043e\\u043c\\u0441\\u0442\\u0432\\u0430\\u043c\\u0438 \\u0434\\u043b\\u044f \\u043b\\u0438\\u0447\\u043d\\u044b\\u0445 \\u0446\\u0435\\u043b\\u0435\\u0439 \\u043d\\u0435\\u0445\\u043e\\u0440\\u043e\\u0448\\u043e?\\n-\\u041d\\u043e \\u0432\\u0435\\u0434\\u044c, \\u043f\\u0430\\u043f\\u0430, \\u043c\\u0430\\u043b\\u0435\\u043d\\u044c\\u043a\\u043e\\u043c\\u0443 \\u0411\\u0440\\u043e\\u043d\\u0442\\u0435, \\u043c\\u043e\\u0436\\u0435\\u0442 \\u0431\\u044b\\u0442\\u044c, \\u0441\\u043a\\u0443\\u0447\\u043d\\u043e \\u0431\\u0435\\u0437 \\u0434\\u0435\\u0442\\u0435\\u0439, \\u0432\\u043e\\u0442 \\u044f \\u0438 \\u043f\\u0440\\u0438\\u0448\\u043b\\u0430.\\n\\u042f \\u0442\\u043e\\u043b\\u044c\\u043a\\u043e \\u0440\\u0443\\u043a\\u043e\\u0439 \\u043c\\u0430\\u0445\\u043d\\u0443\\u043b. \\u0423 \\u043c\\u0435\\u043d\\u044f \\u043d\\u0435 \\u0431\\u044b\\u043b\\u043e \\u043d\\u0438 \\u043c\\u0438\\u043d\\u0443\\u0442\\u044b \\u0441\\u0432\\u043e\\u0431\\u043e\\u0434\\u043d\\u043e\\u0439, \\u0447\\u0442\\u043e\\u0431\\u044b \\u0432\\u044b\\u0432\\u0435\\u0441\\u0442\\u0438 \\u0410\\u043b\\u0438\\u0441\\u0443 \\u0438\\u0437 \\u0438\\u043d\\u043a\\u0443\\u0431\\u0430\\u0442\\u043e\\u0440\\u0430. \\u0418 \\u043d\\u0435 \\u0431\\u044b\\u043b\\u043e \\u0432\\u043e\\u043a\\u0440\\u0443\\u0433 \\u043d\\u0438\\u043a\\u043e\\u0433\\u043e, \\u043a\\u0442\\u043e \\u0441\\u043e\\u0433\\u043b\\u0430\\u0441\\u0438\\u043b\\u0441\\u044f \\u0431\\u044b \\u044d\\u0442\\u043e \\u0441\\u0434\\u0435\\u043b\\u0430\\u0442\\u044c \\u0437\\u0430 \\u043c\\u0435\\u043d\\u044f.\\n-\\u0421\\u0442\\u043e\\u0439 \\u0437\\u0434\\u0435\\u0441\\u044c \\u0438 \\u043d\\u0438\\u043a\\u0443\\u0434\\u0430 \\u043d\\u0435 \\u0443\\u0445\\u043e\\u0434\\u0438,- \\u0441\\u043a\\u0430\\u0437\\u0430\\u043b \\u044f \\u0435\\u0439, \\u0430 \\u0441\\u0430\\u043c \\u0431\\u0440\\u043e\\u0441\\u0438\\u043b\\u0441\\u044f \\u043a \\u043a\\u043e\\u043b\\u043f\\u0430\\u043a\\u0443 \\u0441 \\u043d\\u043e\\u0432\\u043e\\u0440\\u043e\\u0436\\u0434\\u0435\\u043d\\u043d\\u044b\\u043c \\u0431\\u0440\\u043e\\u043d\\u0442\\u043e\\u0437\\u0430\\u0432\\u0440\\u043e\\u043c.\\n\\u0412\\u0435\\u0441\\u044c \\u0432\\u0435\\u0447\\u0435\\u0440 \\u043c\\u044b \\u0441 \\u0410\\u043b\\u0438\\u0441\\u043e\\u0439 \\u043d\\u0435 \\u0440\\u0430\\u0437\\u0433\\u043e\\u0432\\u0430\\u0440\\u0438\\u0432\\u0430\\u043b\\u0438. \\u041f\\u043e\\u0441\\u0441\\u043e\\u0440\\u0438\\u043b\\u0438\\u0441\\u044c. \\u042f \\u0437\\u0430\\u043f\\u0440\\u0435\\u0442\\u0438\\u043b \\u0435\\u0439 \\u043f\\u043e\\u044f\\u0432\\u043b\\u044f\\u0442\\u044c\\u0441\\u044f \\u0432 \\u0438\\u043d\\u043a\\u0443\\u0431\\u0430\\u0442\\u043e\\u0440\\u0435, \\u043d\\u043e \\u043e\\u043d\\u0430 \\u0441\\u043a\\u0430\\u0437\\u0430\\u043b\\u0430, \\u0447\\u0442\\u043e \\u043d\\u0435 \\u043c\\u043e\\u0436\\u0435\\u0442 \\u043c\\u0435\\u043d\\u044f \\u043f\\u043e\\u0441\\u043b\\u0443\\u0448\\u0430\\u0442\\u044c\\u0441\\u044f, \\u043f\\u043e\\u0442\\u043e\\u043c\\u0443 \\u0447\\u0442\\u043e \\u0435\\u0439 \\u0436\\u0430\\u043b\\u043a\\u043e \\u0411\\u0440\\u043e\\u043d\\u0442\\u044e. \\u0418 \\u043d\\u0430 \\u0441\\u043b\\u0435\\u0434\\u0443\\u044e\\u0449\\u0438\\u0439 \\u0434\\u0435\\u043d\\u044c \\u043e\\u043d\\u0430 \\u0441\\u043d\\u043e\\u0432\\u0430 \\u043f\\u0440\\u043e\\u0431\\u0440\\u0430\\u043b\\u0430\\u0441\\u044c \\u0432 \\u0438\\u043d\\u043a\\u0443\\u0431\\u0430\\u0442\\u043e\\u0440. \\u0415\\u0435 \\u043f\\u0440\\u043e\\u0432\\u0435\\u043b\\u0438 \\u043a\\u043e\\u0441\\u043c\\u043e\\u043d\\u0430\\u0432\\u0442\\u044b \\u0441 \\u043a\\u043e\\u0440\\u0430\\u0431\\u043b\\u044f \\u00ab\\u042e\\u043f\\u0438\\u0442\\u0435\\u0440-8\\u00bb. \\u041a\\u043e\\u0441\\u043c\\u043e\\u043d\\u0430\\u0432\\u0442\\u044b \\u0431\\u044b\\u043b\\u0438 \\u0433\\u0435\\u0440\\u043e\\u044f\\u043c\\u0438, \\u0438 \\u043d\\u0438\\u043a\\u0442\\u043e \\u043d\\u0435 \\u043c\\u043e\\u0433 \\u043e\\u0442\\u043a\\u0430\\u0437\\u0430\\u0442\\u044c \\u0438\\u043c.\\n-\\u0414\\u043e\\u0431\\u0440\\u043e\\u0435 \\u0443\\u0442\\u0440\\u043e, \\u0411\\u0440\\u043e\\u043d\\u0442\\u044f,- \\u0441\\u043a\\u0430\\u0437\\u0430\\u043b\\u0430 \\u043e\\u043d\\u0430, \\u043f\\u043e\\u0434\\u0445\\u043e\\u0434\\u044f \\u043a \\u043a\\u043e\\u043b\\u043f\\u0430\\u043a\\u0443.\\n\\u0411\\u0440\\u043e\\u043d\\u0442\\u043e\\u0437\\u0430\\u0432\\u0440\\u0435\\u043d\\u043e\\u043a \\u0438\\u0441\\u043a\\u043e\\u0441\\u0430 \\u043f\\u043e\\u0441\\u043c\\u043e\\u0442\\u0440\\u0435\\u043b \\u043d\\u0430 \\u043d\\u0435\\u0435.\",\n          \"-\\u0412\\u044b \\u0441\\u0435\\u0440\\u0434\\u0438\\u0442\\u044b\\u0439, \\u0442\\u043e\\u0432\\u0430\\u0440\\u0438\\u0449, \\u043f\\u043e\\u0442\\u043e\\u043c\\u0443 \\u0447\\u0442\\u043e \\u043f\\u043b\\u043e\\u0445\\u043e \\u0441\\u0435\\u0431\\u044f \\u0447\\u0443\\u0432\\u0441\\u0442\\u0432\\u0443\\u0435\\u0442\\u0435. \\u0412\\u0430\\u043c \\u043d\\u0430\\u0434\\u043e \\u043f\\u043e\\u043b\\u0435\\u0436\\u0430\\u0442\\u044c.\\n-\\u0422\\u044b \\u0434\\u043e\\u043a\\u0442\\u043e\\u0440, \\u0447\\u0442\\u043e \\u043b\\u0438?- \\u043e\\u043a\\u0440\\u044b\\u0441\\u0438\\u043b\\u0441\\u044f \\u0441\\u043b\\u0443\\u0436\\u0438\\u0432\\u044b\\u0439.- \\u0410 \\u043d\\u0443 \\u043f\\u043e\\u043a\\u0430\\u0436\\u044c \\u0434\\u043e\\u043a\\u0443\\u043c\\u0435\\u043d\\u0442!\\n-\\u0414\\u043e\\u043a\\u0442\\u043e\\u0440, \\u0434\\u043e\\u043a\\u0442\\u043e\\u0440,- \\u0437\\u0430\\u043a\\u0438\\u0432\\u0430\\u043b \\u0430\\u0437\\u0438\\u0430\\u0442.- \\u0412\\u0430\\u043c \\u0432\\u043e\\u0442 \\u0437\\u0434\\u0435\\u0441\\u044c \\u0441\\u043e\\u0432\\u0441\\u0435\\u043c \\u0431\\u043e\\u043b\\u044c\\u043d\\u043e.\\n\\u041e\\u043d \\u0442\\u043a\\u043d\\u0443\\u043b \\u043c\\u0438\\u043b\\u0438\\u0446\\u0438\\u043e\\u043d\\u0435\\u0440\\u0443 \\u043f\\u0430\\u043b\\u044c\\u0446\\u0435\\u043c \\u043a\\u0443\\u0434\\u0430-\\u0442\\u043e \\u0432 \\u0436\\u0438\\u0432\\u043e\\u0442. \\u0422\\u0430\\u043c, \\u043a\\u0430\\u0436\\u0435\\u0442\\u0441\\u044f, \\u0432 \\u0441\\u0430\\u043c\\u043e\\u043c \\u0434\\u0435\\u043b\\u0435 \\u0431\\u044b\\u043b\\u043e \\u00ab\\u0441\\u043e\\u0432\\u0441\\u0435\\u043c \\u0431\\u043e\\u043b\\u044c\\u043d\\u043e\\u00bb- \\u043a\\u0430\\u0437\\u0435\\u043d\\u043d\\u044b\\u0439 \\u0447\\u0435\\u043b\\u043e\\u0432\\u0435\\u043a \\u043e\\u0439\\u043a\\u043d\\u0443\\u043b, \\u0441\\u0442\\u0430\\u043b \\u043e\\u0447\\u0435\\u043d\\u044c \\u0431\\u043b\\u0435\\u0434\\u0435\\u043d, \\u0432\\u044b\\u0440\\u043e\\u043d\\u0438\\u043b \\u0432\\u0438\\u043d\\u0442\\u043e\\u0432\\u043a\\u0443, \\u043f\\u043e\\u0448\\u0430\\u0442\\u043d\\u0443\\u043b\\u0441\\u044f.\\n-\\u0415\\u043c\\u0443 \\u043d\\u0435\\u0445\\u043e\\u0440\\u043e\\u0448\\u043e,- \\u043e\\u0431\\u044a\\u044f\\u0441\\u043d\\u0438\\u043b \\u043a\\u0438\\u0442\\u0430\\u0435\\u0446 \\u0434\\u0440\\u0443\\u0433\\u0438\\u043c \\u043f\\u0430\\u0441\\u0441\\u0430\\u0436\\u0438\\u0440\\u0430\\u043c, \\u0431\\u0435\\u0440\\u0435\\u0436\\u043d\\u043e \\u0432\\u0437\\u044f\\u0432 \\u043c\\u0438\\u043b\\u0438\\u0446\\u0438\\u043e\\u043d\\u0435\\u0440\\u0430 \\u0437\\u0430 \\u0432\\u043e\\u0440\\u043e\\u0442.- \\u041e\\u043d \\u043d\\u0435\\u043c\\u043d\\u043e\\u0436\\u043a\\u043e \\u043f\\u043e\\u043b\\u0435\\u0436\\u0438\\u0442. \\u041f\\u043e\\u0434\\u0432\\u0438\\u043d\\u044c\\u0442\\u0435\\u0441\\u044c, \\u0433\\u0440\\u0430\\u0436\\u0434\\u0430\\u043d\\u0435\\u2026 \\u0411\\u043e\\u043b\\u044c\\u0448\\u043e\\u0435 \\u0441\\u043f\\u0430\\u0441\\u0438\\u0431\\u043e.\\n\\u0421 \\u044d\\u0442\\u0438\\u043c\\u0438 \\u0441\\u043b\\u043e\\u0432\\u0430\\u043c\\u0438 \\u043e\\u043d \\u0443\\u043b\\u043e\\u0436\\u0438\\u043b \\u0441\\u043e\\u043c\\u043b\\u0435\\u0432\\u0448\\u0435\\u0433\\u043e \\u0441\\u043b\\u0443\\u0436\\u0438\\u0442\\u0435\\u043b\\u044f \\u0441\\u043e\\u0446\\u0438\\u0430\\u043b\\u0438\\u0441\\u0442\\u0438\\u0447\\u0435\\u0441\\u043a\\u043e\\u0439 \\u0437\\u0430\\u043a\\u043e\\u043d\\u043d\\u043e\\u0441\\u0442\\u0438 \\u043d\\u0430 \\u043f\\u0435\\u0440\\u0440\\u043e\\u043d \\u0438, \\u0432\\u0441\\u043a\\u0438\\u043d\\u0443\\u0432 \\u043f\\u043e\\u043a\\u043b\\u0430\\u0436\\u0443 \\u043f\\u043e\\u0432\\u044b\\u0448\\u0435, \\u043d\\u0435\\u0442\\u043e\\u0440\\u043e\\u043f\\u043b\\u0438\\u0432\\u043e \\u043f\\u043e\\u0434\\u043d\\u044f\\u043b\\u0441\\u044f \\u043f\\u043e \\u0441\\u0442\\u0443\\u043f\\u0435\\u043d\\u044c\\u043a\\u0430\\u043c. \\u0421\\u043b\\u0435\\u0434\\u043e\\u043c \\u0440\\u0438\\u043d\\u0443\\u043b\\u0438\\u0441\\u044c \\u043e\\u0441\\u0442\\u0430\\u043b\\u044c\\u043d\\u044b\\u0435.\\n\\u0412\\u043d\\u0443\\u0442\\u0440\\u0438 \\u043e\\u043a\\u0430\\u0437\\u0430\\u043b\\u043e\\u0441\\u044c, \\u0447\\u0442\\u043e \\u043f\\u043e\\u0437\\u0430\\u0440\\u0438\\u0432\\u0448\\u0438\\u0435\\u0441\\u044f \\u043d\\u0430 \\u043f\\u0435\\u0440\\u0432\\u044b\\u0439 \\u043a\\u043b\\u0430\\u0441\\u0441 \\u043f\\u0440\\u043e\\u0441\\u0447\\u0438\\u0442\\u0430\\u043b\\u0438\\u0441\\u044c. \\u041d\\u0435\\u0434\\u0430\\u0432\\u043d\\u043e \\u0437\\u0434\\u0435\\u0441\\u044c \\u0435\\u0445\\u0430\\u043b\\u0438 \\u0434\\u043e\\u043c\\u043e\\u0439 \\u0441 \\u0444\\u0440\\u043e\\u043d\\u0442\\u0430 \\u0443\\u0441\\u0441\\u0443\\u0440\\u0438\\u0439\\u0441\\u043a\\u0438\\u0435 \\u043a\\u0430\\u0437\\u0430\\u043a\\u0438, \\u043d\\u0435 \\u043f\\u043e\\u0436\\u0435\\u043b\\u0430\\u0432\\u0448\\u0438\\u0435 \\u0440\\u0430\\u0441\\u0441\\u0442\\u0430\\u0432\\u0430\\u0442\\u044c\\u0441\\u044f \\u0441\\u043e \\u0441\\u0432\\u043e\\u0438\\u043c\\u0438 \\u043b\\u043e\\u0448\\u0430\\u0434\\u044c\\u043c\\u0438, \\u0438 \\u0440\\u0435\\u0441\\u043f\\u0435\\u043a\\u0442\\u0430\\u0431\\u0435\\u043b\\u044c\\u043d\\u044b\\u0439 \\u0432\\u0430\\u0433\\u043e\\u043d, \\u043f\\u043e\\u0434\\u043e\\u0431\\u043d\\u043e \\u0421\\u0430\\u043c\\u0430\\u0440\\u0441\\u043a\\u043e\\u043c\\u0443 \\u0432\\u043e\\u043a\\u0437\\u0430\\u043b\\u0443, \\u043f\\u0430\\u043b \\u0436\\u0435\\u0440\\u0442\\u0432\\u043e\\u0439 \\u0440\\u0435\\u0432\\u043e\\u043b\\u044e\\u0446\\u0438\\u0438. \\u0412 \\u0441\\u0442\\u0435\\u043d\\u044b \\u043d\\u0430\\u043c\\u0435\\u0440\\u0442\\u0432\\u043e \\u0432\\u043f\\u0438\\u0442\\u0430\\u043b\\u0441\\u044f \\u043a\\u0438\\u0441\\u043b\\u044b\\u0439 \\u043a\\u043e\\u043d\\u0441\\u043a\\u0438\\u0439 \\u0437\\u0430\\u043f\\u0430\\u0445, \\u0430 \\u043f\\u0435\\u0440\\u0435\\u0433\\u043e\\u0440\\u043e\\u0434\\u043a\\u0438, \\u043f\\u043e\\u043b\\u043a\\u0438, \\u0441\\u0442\\u043e\\u043b\\u0438\\u043a\\u0438, \\u0434\\u0438\\u0432\\u0430\\u043d\\u0447\\u0438\\u043a\\u0438 \\u0441\\u0433\\u043e\\u0440\\u0435\\u043b\\u0438 \\u0432 \\u043a\\u043e\\u0441\\u0442\\u0440\\u0435, \\u043e\\u0442 \\u043a\\u043e\\u0442\\u043e\\u0440\\u043e\\u0433\\u043e \\u043d\\u0430 \\u043f\\u043e\\u043b\\u0443, \\u043f\\u043e\\u0441\\u0435\\u0440\\u0435\\u0434\\u0438\\u043d\\u0435 \\u0440\\u0430\\u0437\\u043e\\u0440\\u0435\\u043d\\u043d\\u043e\\u0433\\u043e \\u043f\\u0443\\u0441\\u0442\\u043e\\u0433\\u043e \\u043f\\u0440\\u043e\\u0441\\u0442\\u0440\\u0430\\u043d\\u0441\\u0442\\u0432\\u0430, \\u043e\\u0441\\u0442\\u0430\\u043b\\u0430\\u0441\\u044c \\u043f\\u0440\\u043e\\u0436\\u0436\\u0435\\u043d\\u043d\\u0430\\u044f \\u0432\\u044b\\u0431\\u043e\\u0438\\u043d\\u0430. \\u0423\\u0446\\u0435\\u043b\\u0435\\u043b\\u043e \\u0442\\u043e\\u043b\\u044c\\u043a\\u043e \\u043e\\u0434\\u043d\\u043e \\u043a\\u0440\\u0430\\u0439\\u043d\\u0435\\u0435 \\u043a\\u0443\\u043f\\u0435. \\u041a \\u043d\\u0435\\u043c\\u0443 \\u0438 \\u043f\\u043e\\u0441\\u043f\\u0435\\u0448\\u0438\\u043b\\u0438 \\u043f\\u0435\\u0440\\u0432\\u044b\\u0435 \\u0432\\u043e\\u0440\\u0432\\u0430\\u0432\\u0448\\u0438\\u0435\\u0441\\u044f, \\u0445\\u043e\\u0442\\u044f \\u00ab\\u043f\\u043e\\u0441\\u043f\\u0435\\u0448\\u0430\\u043d\\u0438\\u0435\\u043c\\u00bb \\u043d\\u0430\\u0437\\u0432\\u0430\\u0442\\u044c \\u044d\\u0442\\u043e \\u0431\\u044b\\u043b\\u043e \\u0442\\u0440\\u0443\\u0434\\u043d\\u043e. \\u041d\\u0438\\u043a\\u0442\\u043e \\u043d\\u0435 \\u043e\\u0441\\u043c\\u0435\\u043b\\u0438\\u043b\\u0441\\u044f \\u043e\\u0431\\u043e\\u0433\\u043d\\u0430\\u0442\\u044c \\u0432\\u0435\\u0436\\u043b\\u0438\\u0432\\u043e\\u0433\\u043e \\u043a\\u0438\\u0442\\u0430\\u0439\\u0446\\u0430 \\u0441 \\u0435\\u0433\\u043e \\u0433\\u0440\\u043e\\u043c\\u043e\\u0437\\u0434\\u043a\\u043e\\u0439 \\u043d\\u043e\\u0448\\u0435\\u0439, \\u0430 \\u043e\\u043d \\u0434\\u0432\\u0438\\u0433\\u0430\\u043b\\u0441\\u044f \\u0441\\u043e\\u043b\\u0438\\u0434\\u043d\\u043e, \\u0431\\u0435\\u0437 \\u0441\\u0443\\u0435\\u0442\\u044b. \\u0422\\u043e\\u043b\\u044c\\u043a\\u043e \\u043a\\u043e\\u0433\\u0434\\u0430 \\u0432\\u043e\\u0441\\u0442\\u043e\\u0447\\u043d\\u044b\\u0439 \\u0447\\u0435\\u043b\\u043e\\u0432\\u0435\\u043a, \\u043e\\u0441\\u043c\\u043e\\u0442\\u0440\\u0435\\u0432\\u0448\\u0438\\u0441\\u044c, \\u0443\\u0441\\u0435\\u043b\\u0441\\u044f, \\u043f\\u0440\\u0438\\u0441\\u0442\\u0440\\u043e\\u0438\\u0432 \\u043a \\u043e\\u043a\\u043d\\u0443 \\u0432\\u0435\\u0440\\u0442\\u0438\\u043a\\u0430\\u043b\\u044c\\u043d\\u043e \\u0441\\u0432\\u043e\\u0439 \\u0442\\u044e\\u043a, \\u0432 \\u043e\\u0442\\u0434\\u0435\\u043b\\u0435\\u043d\\u0438\\u0435 \\u0431\\u0440\\u043e\\u0441\\u0438\\u043b\\u0438\\u0441\\u044c \\u0441\\u0430\\u043c\\u044b\\u0435 \\u0431\\u043e\\u0435\\u0432\\u0438\\u0442\\u044b\\u0435. \\u0412\\u0442\\u043e\\u0440\\u044b\\u043c \\u0432\\u043e\\u0440\\u0432\\u0430\\u043b\\u0441\\u044f \\u0432\\u0435\\u0440\\u0437\\u0438\\u043b\\u0430-\\u043c\\u0430\\u0442\\u0440\\u043e\\u0441, \\u0443\\u0436\\u0435 \\u043e\\u043f\\u0440\\u0430\\u0432\\u0438\\u0432\\u0448\\u0438\\u0439\\u0441\\u044f \\u043e\\u0442 \\u0443\\u0434\\u0430\\u0440\\u0430 \\u043b\\u043e\\u043a\\u0442\\u0435\\u043c.\\n-\\u042f \\u043d\\u0430\\u0432\\u0435\\u0440\\u0445, \\u043d\\u0435 \\u0432\\u043e\\u0437\\u0440\\u0430\\u0436\\u0430\\u0435\\u0442\\u0435?- \\u043f\\u043e\\u0447\\u0442\\u0438\\u0442\\u0435\\u043b\\u044c\\u043d\\u043e \\u0441\\u043f\\u0440\\u043e\\u0441\\u0438\\u043b \\u043e\\u043d \\u0438 \\u043e\\u043a\\u043a\\u0443\\u043f\\u0438\\u0440\\u043e\\u0432\\u0430\\u043b \\u043a\\u043e\\u0437\\u044b\\u0440\\u043d\\u0443\\u044e \\u043f\\u043e\\u0437\\u0438\\u0446\\u0438\\u044e- \\u043e\\u0434\\u043d\\u0443 \\u0438\\u0437 \\u0431\\u0430\\u0433\\u0430\\u0436\\u043d\\u044b\\u0445 \\u043f\\u043e\\u043b\\u043e\\u043a, \\u0433\\u0434\\u0435 \\u043c\\u043e\\u0436\\u043d\\u043e \\u0431\\u044b\\u043b\\u043e \\u0440\\u0430\\u0437\\u043b\\u0435\\u0447\\u044c\\u0441\\u044f \\u0432\\u043e \\u0432\\u0435\\u0441\\u044c \\u0440\\u043e\\u0441\\u0442.\",\n          \"-\\u041d\\u043e \\u0435\\u0441\\u043b\\u0438 \\u043e\\u043d\\u0430\\u2026\\n-\\u041e\\u043d\\u0430 \\u0443\\u0448\\u043b\\u0430 \\u0435\\u0449\\u0435 \\u0434\\u043e \\u0437\\u0430\\u043a\\u0430\\u0442\\u0430,- \\u043f\\u0435\\u0440\\u0435\\u0431\\u0438\\u043b \\u0435\\u0433\\u043e \\u0413\\u0435\\u043d\\u0440\\u0438 \\u041b\\u044d\\u043d\\u0434\\u0435\\u0440.\\n\\u0411\\u0443\\u0434\\u0442\\u043e \\u043f\\u0440\\u0438 \\u0441\\u0432\\u0435\\u0442\\u0435 \\u0434\\u043d\\u044f \\u0432\\u043e\\u043b\\u043a (\\u0438\\u043b\\u0438 \\u043c\\u0435\\u0434\\u0432\\u0435\\u0434\\u044c) \\u043d\\u0435 \\u0441\\u0442\\u0430\\u043d\\u0435\\u0442 \\u043d\\u0430\\u043f\\u0430\\u0434\\u0430\\u0442\\u044c \\u043d\\u0430 \\u0431\\u0435\\u0437\\u0437\\u0430\\u0449\\u0438\\u0442\\u043d\\u0443\\u044e \\u0436\\u0435\\u043d\\u0449\\u0438\\u043d\\u0443. \\u0425\\u043e\\u0442\\u044f \\u043a\\u0430\\u043a \\u0437\\u043d\\u0430\\u0442\\u044c. \\u0414\\u044d\\u0432\\u0438\\u0434 \\u0431\\u044b\\u043b \\u0431\\u0430\\u043d\\u043a\\u043e\\u0432\\u0441\\u043a\\u0438\\u043c \\u0441\\u043b\\u0443\\u0436\\u0430\\u0449\\u0438\\u043c, \\u0430 \\u043d\\u0435 \\u0441\\u043f\\u0435\\u0446\\u0438\\u0430\\u043b\\u0438\\u0441\\u0442\\u043e\\u043c \\u043f\\u043e \\u0434\\u0438\\u043a\\u043e\\u0439 \\u043f\\u0440\\u0438\\u0440\\u043e\\u0434\\u0435. \\u0418 \\u043e\\u043d \\u0431\\u044b\\u043b \\u043c\\u043e\\u043b\\u043e\\u0434.\\n-\\u0415\\u0441\\u043b\\u0438 \\u043f\\u0440\\u0438\\u0434\\u0435\\u0442 \\u0430\\u0432\\u0430\\u0440\\u0438\\u0439\\u043d\\u044b\\u0439 \\u0441\\u043e\\u0441\\u0442\\u0430\\u0432, \\u0430 \\u0435\\u0435 \\u0437\\u0434\\u0435\\u0441\\u044c \\u043d\\u0435 \\u0431\\u0443\\u0434\\u0435\\u0442, \\u043e\\u043d\\u0430 \\u043e\\u0441\\u0442\\u0430\\u043d\\u0435\\u0442\\u0441\\u044f \\u0437\\u0434\\u0435\\u0441\\u044c.\\n\\u0423 \\u043d\\u0435\\u0433\\u043e \\u043d\\u0438\\u043a\\u0430\\u043a \\u043d\\u0435 \\u043f\\u043e\\u043b\\u0443\\u0447\\u0430\\u043b\\u043e\\u0441\\u044c \\u0434\\u043e\\u0432\\u0435\\u0441\\u0442\\u0438 \\u0434\\u043e \\u0438\\u0445 \\u0441\\u043e\\u0437\\u043d\\u0430\\u043d\\u0438\\u044f \\u044d\\u0442\\u0443 \\u043f\\u0440\\u043e\\u0441\\u0442\\u0443\\u044e \\u043c\\u044b\\u0441\\u043b\\u044c. \\u00ab\\u041d\\u0435 \\u043a\\u043e\\u043d\\u0442\\u0430\\u0447\\u0438\\u043b\\u043e\\u00bb, \\u043a\\u0430\\u043a \\u0432\\u044b\\u0440\\u0430\\u0436\\u0430\\u043b\\u0438\\u0441\\u044c \\u0440\\u0435\\u0431\\u044f\\u0442\\u0430 \\u0438\\u0437 \\u0447\\u0438\\u043a\\u0430\\u0433\\u0441\\u043a\\u043e\\u0433\\u043e \\u043e\\u0444\\u0438\\u0441\\u0430.\\n\\u0413\\u0435\\u043d\\u0440\\u0438 \\u043f\\u043e\\u0434\\u043d\\u044f\\u043b \\u0431\\u0440\\u043e\\u0432\\u0438:\\n-\\u0425\\u043e\\u0447\\u0435\\u0448\\u044c \\u0441\\u043a\\u0430\\u0437\\u0430\\u0442\\u044c, \\u0435\\u0441\\u043b\\u0438 \\u0432\\u044b \\u043e\\u0431\\u0430 \\u043e\\u043f\\u043e\\u0437\\u0434\\u0430\\u0435\\u0442\\u0435 \\u043d\\u0430 \\u043f\\u043e\\u0435\\u0437\\u0434, \\u0431\\u0443\\u0434\\u0435\\u0442 \\u0447\\u0435\\u043c-\\u0442\\u043e \\u043b\\u0443\\u0447\\u0448\\u0435?\\n\\u0415\\u0441\\u043b\\u0438 \\u043e\\u043d\\u0438 \\u043e\\u0431\\u0430 \\u043e\\u043f\\u043e\\u0437\\u0434\\u0430\\u044e\\u0442, \\u0442\\u043e \\u043b\\u0438\\u0431\\u043e \\u043f\\u043e\\u0435\\u0434\\u0443\\u0442 \\u043d\\u0430 \\u0430\\u0432\\u0442\\u043e\\u0431\\u0443\\u0441\\u0435, \\u043b\\u0438\\u0431\\u043e \\u0434\\u043e\\u0436\\u0434\\u0443\\u0442\\u0441\\u044f \\u0441\\u043b\\u0435\\u0434\\u0443\\u044e\\u0449\\u0435\\u0433\\u043e \\u0441\\u043e\\u0441\\u0442\\u0430\\u0432\\u0430. \\u041b\\u044d\\u043d\\u0434\\u0435\\u0440\\u044b \\u043d\\u0435 \\u043c\\u043e\\u0433\\u043b\\u0438 \\u044d\\u0442\\u043e\\u0433\\u043e \\u043d\\u0435 \\u043f\\u043e\\u043d\\u0438\\u043c\\u0430\\u0442\\u044c. \\u0418\\u043b\\u0438 \\u0432\\u0441\\u0435-\\u0442\\u0430\\u043a\\u0438?.. \\u0418\\u0445 \\u0443\\u0441\\u0442\\u0430\\u043b\\u043e\\u0441\\u0442\\u044c \\u0431\\u0440\\u043e\\u0441\\u0430\\u043b\\u0430\\u0441\\u044c \\u0432 \\u0433\\u043b\\u0430\\u0437\\u0430. \\u041f\\u0435\\u0440\\u0435\\u0434 \\u0414\\u044d\\u0432\\u0438\\u0434\\u043e\\u043c \\u0441\\u0438\\u0434\\u0435\\u043b\\u0430 \\u043f\\u0430\\u0440\\u0430 \\u0438\\u0437\\u043c\\u0443\\u0447\\u0435\\u043d\\u043d\\u044b\\u0445 \\u043b\\u044e\\u0434\\u0435\\u0439, \\u0432\\u0440\\u0435\\u043c\\u0435\\u043d\\u043d\\u043e \\u0437\\u0430\\u0441\\u0442\\u0440\\u044f\\u0432\\u0448\\u0438\\u0445 \\u0432 \\u043a\\u0440\\u0430\\u044e \\u043a\\u043e\\u0432\\u0431\\u043e\\u0439\\u0441\\u043a\\u0438\\u0445 \\u043a\\u043e\\u043c\\u0431\\u0438\\u043d\\u0435\\u0437\\u043e\\u043d\\u043e\\u0432. \\u041d\\u043e \\u043a\\u043e\\u0433\\u043e \\u0432\\u043e\\u043e\\u0431\\u0449\\u0435 \\u0437\\u0430\\u0431\\u043e\\u0442\\u0438\\u0442 \\u0441\\u0443\\u0434\\u044c\\u0431\\u0430 \\u0423\\u0438\\u043b\\u043b\\u044b? \\u0415\\u0441\\u043b\\u0438 \\u043e\\u043d\\u0430 \\u0441\\u0433\\u0438\\u043d\\u0435\\u0442 \\u043d\\u0430 \\u043f\\u0440\\u043e\\u0441\\u0442\\u043e\\u0440\\u0430\\u0445 \\u0412\\u044b\\u0441\\u043e\\u043a\\u0438\\u0445 \\u0440\\u0430\\u0432\\u043d\\u0438\\u043d, \\u043a\\u0442\\u043e \\u0435\\u0449\\u0435 \\u043e \\u043d\\u0435\\u0439 \\u0432\\u0441\\u043f\\u043e\\u043c\\u043d\\u0438\\u0442, \\u043a\\u0440\\u043e\\u043c\\u0435 \\u0414\\u044d\\u0432\\u0438\\u0434\\u0430 \\u0421\\u044d\\u043d\\u0434\\u0435\\u0440\\u0441\\u043e\\u043d\\u0430? \\u0415\\u0435 \\u0437\\u0434\\u0435\\u0441\\u044c \\u0434\\u0430\\u0436\\u0435 \\u043d\\u0435\\u0434\\u043e\\u043b\\u044e\\u0431\\u043b\\u0438\\u0432\\u0430\\u043b\\u0438. \\u042d\\u0442\\u0430 \\u0441\\u0442\\u0435\\u0440\\u0432\\u0430 \\u0423\\u0440\\u0441\\u0443\\u043b\\u0430 \\u0414\\u044d\\u0432\\u0438\\u0441 \\u043e\\u0434\\u043d\\u0430\\u0436\\u0434\\u044b \\u0437\\u0430\\u044f\\u0432\\u0438\\u043b\\u0430 \\u0435\\u043c\\u0443, \\u0447\\u0442\\u043e \\u0435\\u0441\\u043b\\u0438 \\u0431\\u044b \\u043c\\u0430\\u0442\\u044c \\u0423\\u0438\\u043b\\u043b\\u044b \\u0432\\u043e\\u0432\\u0440\\u0435\\u043c\\u044f \\u0443\\u0431\\u0440\\u0430\\u043b\\u0430 \\u0438\\u0437 \\u0435\\u0435 \\u0438\\u043c\\u0435\\u043d\\u0438 \\u043f\\u043e\\u0441\\u043b\\u0435\\u0434\\u043d\\u044e\\u044e \\u0431\\u0443\\u043a\\u0432\\u0443, \\u00ab\\u043e\\u043d\\u043e \\u043f\\u043e\\u0434\\u0445\\u043e\\u0434\\u0438\\u043b\\u043e \\u0431\\u044b \\u0435\\u0439 \\u043a\\u0443\\u0434\\u0430 \\u0431\\u043e\\u043b\\u044c\\u0448\\u0435\\u00bb.\"\n        ],\n        \"semantic_type\": \"\",\n        \"description\": \"\"\n      }\n    },\n    {\n      \"column\": \"label\",\n      \"properties\": {\n        \"dtype\": \"category\",\n        \"num_unique_values\": 8,\n        \"samples\": [\n          \"Remark\",\n          \"Chehov\",\n          \"Pratchett\"\n        ],\n        \"semantic_type\": \"\",\n        \"description\": \"\"\n      }\n    }\n  ]\n}"
            }
          },
          "metadata": {},
          "execution_count": 5
        }
      ]
    },
    {
      "cell_type": "markdown",
      "source": [
        "Здесь поле 'text' — это текст, а 'label' — автор текста. 'label' — это целевая переменная, которую мы будем предсказывать. Обратите внимания, что в тестовых данных столбца 'label' нет, вам нужно будет предсказать его значения и отправить в качестве ответа на Яндекс.Контест."
      ],
      "metadata": {
        "id": "8ky6cnNcTu6p"
      }
    },
    {
      "cell_type": "code",
      "source": [
        "test_data = pd.read_csv('test_authors.csv')\n",
        "test_data.head()"
      ],
      "metadata": {
        "colab": {
          "base_uri": "https://localhost:8080/",
          "height": 204
        },
        "id": "lLgUS5P5Trnu",
        "outputId": "032a01f4-59ae-4deb-9319-1d451a8baec9"
      },
      "execution_count": null,
      "outputs": [
        {
          "output_type": "execute_result",
          "data": {
            "text/plain": [
              "                                                text\n",
              "0  -Да, я поторопился. Капитан, примите мои извин...\n",
              "1  -Похороны по первому разряду! Довольно благоро...\n",
              "2  Третий округ штата Мэн настолько велик, что ег...\n",
              "3  В мире существуют миллиарды и миллиарды богов....\n",
              "4  Особенность историографии киевского периода со..."
            ],
            "text/html": [
              "\n",
              "  <div id=\"df-a0353439-e81e-4327-87aa-8b663d1134d6\" class=\"colab-df-container\">\n",
              "    <div>\n",
              "<style scoped>\n",
              "    .dataframe tbody tr th:only-of-type {\n",
              "        vertical-align: middle;\n",
              "    }\n",
              "\n",
              "    .dataframe tbody tr th {\n",
              "        vertical-align: top;\n",
              "    }\n",
              "\n",
              "    .dataframe thead th {\n",
              "        text-align: right;\n",
              "    }\n",
              "</style>\n",
              "<table border=\"1\" class=\"dataframe\">\n",
              "  <thead>\n",
              "    <tr style=\"text-align: right;\">\n",
              "      <th></th>\n",
              "      <th>text</th>\n",
              "    </tr>\n",
              "  </thead>\n",
              "  <tbody>\n",
              "    <tr>\n",
              "      <th>0</th>\n",
              "      <td>-Да, я поторопился. Капитан, примите мои извин...</td>\n",
              "    </tr>\n",
              "    <tr>\n",
              "      <th>1</th>\n",
              "      <td>-Похороны по первому разряду! Довольно благоро...</td>\n",
              "    </tr>\n",
              "    <tr>\n",
              "      <th>2</th>\n",
              "      <td>Третий округ штата Мэн настолько велик, что ег...</td>\n",
              "    </tr>\n",
              "    <tr>\n",
              "      <th>3</th>\n",
              "      <td>В мире существуют миллиарды и миллиарды богов....</td>\n",
              "    </tr>\n",
              "    <tr>\n",
              "      <th>4</th>\n",
              "      <td>Особенность историографии киевского периода со...</td>\n",
              "    </tr>\n",
              "  </tbody>\n",
              "</table>\n",
              "</div>\n",
              "    <div class=\"colab-df-buttons\">\n",
              "\n",
              "  <div class=\"colab-df-container\">\n",
              "    <button class=\"colab-df-convert\" onclick=\"convertToInteractive('df-a0353439-e81e-4327-87aa-8b663d1134d6')\"\n",
              "            title=\"Convert this dataframe to an interactive table.\"\n",
              "            style=\"display:none;\">\n",
              "\n",
              "  <svg xmlns=\"http://www.w3.org/2000/svg\" height=\"24px\" viewBox=\"0 -960 960 960\">\n",
              "    <path d=\"M120-120v-720h720v720H120Zm60-500h600v-160H180v160Zm220 220h160v-160H400v160Zm0 220h160v-160H400v160ZM180-400h160v-160H180v160Zm440 0h160v-160H620v160ZM180-180h160v-160H180v160Zm440 0h160v-160H620v160Z\"/>\n",
              "  </svg>\n",
              "    </button>\n",
              "\n",
              "  <style>\n",
              "    .colab-df-container {\n",
              "      display:flex;\n",
              "      gap: 12px;\n",
              "    }\n",
              "\n",
              "    .colab-df-convert {\n",
              "      background-color: #E8F0FE;\n",
              "      border: none;\n",
              "      border-radius: 50%;\n",
              "      cursor: pointer;\n",
              "      display: none;\n",
              "      fill: #1967D2;\n",
              "      height: 32px;\n",
              "      padding: 0 0 0 0;\n",
              "      width: 32px;\n",
              "    }\n",
              "\n",
              "    .colab-df-convert:hover {\n",
              "      background-color: #E2EBFA;\n",
              "      box-shadow: 0px 1px 2px rgba(60, 64, 67, 0.3), 0px 1px 3px 1px rgba(60, 64, 67, 0.15);\n",
              "      fill: #174EA6;\n",
              "    }\n",
              "\n",
              "    .colab-df-buttons div {\n",
              "      margin-bottom: 4px;\n",
              "    }\n",
              "\n",
              "    [theme=dark] .colab-df-convert {\n",
              "      background-color: #3B4455;\n",
              "      fill: #D2E3FC;\n",
              "    }\n",
              "\n",
              "    [theme=dark] .colab-df-convert:hover {\n",
              "      background-color: #434B5C;\n",
              "      box-shadow: 0px 1px 3px 1px rgba(0, 0, 0, 0.15);\n",
              "      filter: drop-shadow(0px 1px 2px rgba(0, 0, 0, 0.3));\n",
              "      fill: #FFFFFF;\n",
              "    }\n",
              "  </style>\n",
              "\n",
              "    <script>\n",
              "      const buttonEl =\n",
              "        document.querySelector('#df-a0353439-e81e-4327-87aa-8b663d1134d6 button.colab-df-convert');\n",
              "      buttonEl.style.display =\n",
              "        google.colab.kernel.accessAllowed ? 'block' : 'none';\n",
              "\n",
              "      async function convertToInteractive(key) {\n",
              "        const element = document.querySelector('#df-a0353439-e81e-4327-87aa-8b663d1134d6');\n",
              "        const dataTable =\n",
              "          await google.colab.kernel.invokeFunction('convertToInteractive',\n",
              "                                                    [key], {});\n",
              "        if (!dataTable) return;\n",
              "\n",
              "        const docLinkHtml = 'Like what you see? Visit the ' +\n",
              "          '<a target=\"_blank\" href=https://colab.research.google.com/notebooks/data_table.ipynb>data table notebook</a>'\n",
              "          + ' to learn more about interactive tables.';\n",
              "        element.innerHTML = '';\n",
              "        dataTable['output_type'] = 'display_data';\n",
              "        await google.colab.output.renderOutput(dataTable, element);\n",
              "        const docLink = document.createElement('div');\n",
              "        docLink.innerHTML = docLinkHtml;\n",
              "        element.appendChild(docLink);\n",
              "      }\n",
              "    </script>\n",
              "  </div>\n",
              "\n",
              "\n",
              "<div id=\"df-2019077c-94bb-47b0-85fb-9ae123324a5e\">\n",
              "  <button class=\"colab-df-quickchart\" onclick=\"quickchart('df-2019077c-94bb-47b0-85fb-9ae123324a5e')\"\n",
              "            title=\"Suggest charts\"\n",
              "            style=\"display:none;\">\n",
              "\n",
              "<svg xmlns=\"http://www.w3.org/2000/svg\" height=\"24px\"viewBox=\"0 0 24 24\"\n",
              "     width=\"24px\">\n",
              "    <g>\n",
              "        <path d=\"M19 3H5c-1.1 0-2 .9-2 2v14c0 1.1.9 2 2 2h14c1.1 0 2-.9 2-2V5c0-1.1-.9-2-2-2zM9 17H7v-7h2v7zm4 0h-2V7h2v10zm4 0h-2v-4h2v4z\"/>\n",
              "    </g>\n",
              "</svg>\n",
              "  </button>\n",
              "\n",
              "<style>\n",
              "  .colab-df-quickchart {\n",
              "      --bg-color: #E8F0FE;\n",
              "      --fill-color: #1967D2;\n",
              "      --hover-bg-color: #E2EBFA;\n",
              "      --hover-fill-color: #174EA6;\n",
              "      --disabled-fill-color: #AAA;\n",
              "      --disabled-bg-color: #DDD;\n",
              "  }\n",
              "\n",
              "  [theme=dark] .colab-df-quickchart {\n",
              "      --bg-color: #3B4455;\n",
              "      --fill-color: #D2E3FC;\n",
              "      --hover-bg-color: #434B5C;\n",
              "      --hover-fill-color: #FFFFFF;\n",
              "      --disabled-bg-color: #3B4455;\n",
              "      --disabled-fill-color: #666;\n",
              "  }\n",
              "\n",
              "  .colab-df-quickchart {\n",
              "    background-color: var(--bg-color);\n",
              "    border: none;\n",
              "    border-radius: 50%;\n",
              "    cursor: pointer;\n",
              "    display: none;\n",
              "    fill: var(--fill-color);\n",
              "    height: 32px;\n",
              "    padding: 0;\n",
              "    width: 32px;\n",
              "  }\n",
              "\n",
              "  .colab-df-quickchart:hover {\n",
              "    background-color: var(--hover-bg-color);\n",
              "    box-shadow: 0 1px 2px rgba(60, 64, 67, 0.3), 0 1px 3px 1px rgba(60, 64, 67, 0.15);\n",
              "    fill: var(--button-hover-fill-color);\n",
              "  }\n",
              "\n",
              "  .colab-df-quickchart-complete:disabled,\n",
              "  .colab-df-quickchart-complete:disabled:hover {\n",
              "    background-color: var(--disabled-bg-color);\n",
              "    fill: var(--disabled-fill-color);\n",
              "    box-shadow: none;\n",
              "  }\n",
              "\n",
              "  .colab-df-spinner {\n",
              "    border: 2px solid var(--fill-color);\n",
              "    border-color: transparent;\n",
              "    border-bottom-color: var(--fill-color);\n",
              "    animation:\n",
              "      spin 1s steps(1) infinite;\n",
              "  }\n",
              "\n",
              "  @keyframes spin {\n",
              "    0% {\n",
              "      border-color: transparent;\n",
              "      border-bottom-color: var(--fill-color);\n",
              "      border-left-color: var(--fill-color);\n",
              "    }\n",
              "    20% {\n",
              "      border-color: transparent;\n",
              "      border-left-color: var(--fill-color);\n",
              "      border-top-color: var(--fill-color);\n",
              "    }\n",
              "    30% {\n",
              "      border-color: transparent;\n",
              "      border-left-color: var(--fill-color);\n",
              "      border-top-color: var(--fill-color);\n",
              "      border-right-color: var(--fill-color);\n",
              "    }\n",
              "    40% {\n",
              "      border-color: transparent;\n",
              "      border-right-color: var(--fill-color);\n",
              "      border-top-color: var(--fill-color);\n",
              "    }\n",
              "    60% {\n",
              "      border-color: transparent;\n",
              "      border-right-color: var(--fill-color);\n",
              "    }\n",
              "    80% {\n",
              "      border-color: transparent;\n",
              "      border-right-color: var(--fill-color);\n",
              "      border-bottom-color: var(--fill-color);\n",
              "    }\n",
              "    90% {\n",
              "      border-color: transparent;\n",
              "      border-bottom-color: var(--fill-color);\n",
              "    }\n",
              "  }\n",
              "</style>\n",
              "\n",
              "  <script>\n",
              "    async function quickchart(key) {\n",
              "      const quickchartButtonEl =\n",
              "        document.querySelector('#' + key + ' button');\n",
              "      quickchartButtonEl.disabled = true;  // To prevent multiple clicks.\n",
              "      quickchartButtonEl.classList.add('colab-df-spinner');\n",
              "      try {\n",
              "        const charts = await google.colab.kernel.invokeFunction(\n",
              "            'suggestCharts', [key], {});\n",
              "      } catch (error) {\n",
              "        console.error('Error during call to suggestCharts:', error);\n",
              "      }\n",
              "      quickchartButtonEl.classList.remove('colab-df-spinner');\n",
              "      quickchartButtonEl.classList.add('colab-df-quickchart-complete');\n",
              "    }\n",
              "    (() => {\n",
              "      let quickchartButtonEl =\n",
              "        document.querySelector('#df-2019077c-94bb-47b0-85fb-9ae123324a5e button');\n",
              "      quickchartButtonEl.style.display =\n",
              "        google.colab.kernel.accessAllowed ? 'block' : 'none';\n",
              "    })();\n",
              "  </script>\n",
              "</div>\n",
              "    </div>\n",
              "  </div>\n"
            ],
            "application/vnd.google.colaboratory.intrinsic+json": {
              "type": "dataframe",
              "variable_name": "test_data",
              "summary": "{\n  \"name\": \"test_data\",\n  \"rows\": 1651,\n  \"fields\": [\n    {\n      \"column\": \"text\",\n      \"properties\": {\n        \"dtype\": \"string\",\n        \"num_unique_values\": 1585,\n        \"samples\": [\n          \"-\\u041c\\u043d\\u0435 \\u043c\\u043e\\u0436\\u043d\\u043e. \\u042f \\u0432\\u0441\\u0435\\u043c \\u0433\\u043e\\u0432\\u043e\\u0440\\u0438\\u043b\\u0430, \\u0447\\u0442\\u043e \\u044f \\u0442\\u0432\\u043e\\u044f \\u0434\\u043e\\u0447\\u043a\\u0430. \\u0418 \\u043c\\u0435\\u043d\\u044f \\u043f\\u0443\\u0441\\u0442\\u0438\\u043b\\u0438.\\n-\\u0422\\u044b \\u0437\\u043d\\u0430\\u0435\\u0448\\u044c, \\u0447\\u0442\\u043e \\u043f\\u043e\\u043b\\u044c\\u0437\\u043e\\u0432\\u0430\\u0442\\u044c\\u0441\\u044f \\u0437\\u043d\\u0430\\u043a\\u043e\\u043c\\u0441\\u0442\\u0432\\u0430\\u043c\\u0438 \\u0434\\u043b\\u044f \\u043b\\u0438\\u0447\\u043d\\u044b\\u0445 \\u0446\\u0435\\u043b\\u0435\\u0439 \\u043d\\u0435\\u0445\\u043e\\u0440\\u043e\\u0448\\u043e?\\n-\\u041d\\u043e \\u0432\\u0435\\u0434\\u044c, \\u043f\\u0430\\u043f\\u0430, \\u043c\\u0430\\u043b\\u0435\\u043d\\u044c\\u043a\\u043e\\u043c\\u0443 \\u0411\\u0440\\u043e\\u043d\\u0442\\u0435, \\u043c\\u043e\\u0436\\u0435\\u0442 \\u0431\\u044b\\u0442\\u044c, \\u0441\\u043a\\u0443\\u0447\\u043d\\u043e \\u0431\\u0435\\u0437 \\u0434\\u0435\\u0442\\u0435\\u0439, \\u0432\\u043e\\u0442 \\u044f \\u0438 \\u043f\\u0440\\u0438\\u0448\\u043b\\u0430.\\n\\u042f \\u0442\\u043e\\u043b\\u044c\\u043a\\u043e \\u0440\\u0443\\u043a\\u043e\\u0439 \\u043c\\u0430\\u0445\\u043d\\u0443\\u043b. \\u0423 \\u043c\\u0435\\u043d\\u044f \\u043d\\u0435 \\u0431\\u044b\\u043b\\u043e \\u043d\\u0438 \\u043c\\u0438\\u043d\\u0443\\u0442\\u044b \\u0441\\u0432\\u043e\\u0431\\u043e\\u0434\\u043d\\u043e\\u0439, \\u0447\\u0442\\u043e\\u0431\\u044b \\u0432\\u044b\\u0432\\u0435\\u0441\\u0442\\u0438 \\u0410\\u043b\\u0438\\u0441\\u0443 \\u0438\\u0437 \\u0438\\u043d\\u043a\\u0443\\u0431\\u0430\\u0442\\u043e\\u0440\\u0430. \\u0418 \\u043d\\u0435 \\u0431\\u044b\\u043b\\u043e \\u0432\\u043e\\u043a\\u0440\\u0443\\u0433 \\u043d\\u0438\\u043a\\u043e\\u0433\\u043e, \\u043a\\u0442\\u043e \\u0441\\u043e\\u0433\\u043b\\u0430\\u0441\\u0438\\u043b\\u0441\\u044f \\u0431\\u044b \\u044d\\u0442\\u043e \\u0441\\u0434\\u0435\\u043b\\u0430\\u0442\\u044c \\u0437\\u0430 \\u043c\\u0435\\u043d\\u044f.\\n-\\u0421\\u0442\\u043e\\u0439 \\u0437\\u0434\\u0435\\u0441\\u044c \\u0438 \\u043d\\u0438\\u043a\\u0443\\u0434\\u0430 \\u043d\\u0435 \\u0443\\u0445\\u043e\\u0434\\u0438,- \\u0441\\u043a\\u0430\\u0437\\u0430\\u043b \\u044f \\u0435\\u0439, \\u0430 \\u0441\\u0430\\u043c \\u0431\\u0440\\u043e\\u0441\\u0438\\u043b\\u0441\\u044f \\u043a \\u043a\\u043e\\u043b\\u043f\\u0430\\u043a\\u0443 \\u0441 \\u043d\\u043e\\u0432\\u043e\\u0440\\u043e\\u0436\\u0434\\u0435\\u043d\\u043d\\u044b\\u043c \\u0431\\u0440\\u043e\\u043d\\u0442\\u043e\\u0437\\u0430\\u0432\\u0440\\u043e\\u043c.\\n\\u0412\\u0435\\u0441\\u044c \\u0432\\u0435\\u0447\\u0435\\u0440 \\u043c\\u044b \\u0441 \\u0410\\u043b\\u0438\\u0441\\u043e\\u0439 \\u043d\\u0435 \\u0440\\u0430\\u0437\\u0433\\u043e\\u0432\\u0430\\u0440\\u0438\\u0432\\u0430\\u043b\\u0438. \\u041f\\u043e\\u0441\\u0441\\u043e\\u0440\\u0438\\u043b\\u0438\\u0441\\u044c. \\u042f \\u0437\\u0430\\u043f\\u0440\\u0435\\u0442\\u0438\\u043b \\u0435\\u0439 \\u043f\\u043e\\u044f\\u0432\\u043b\\u044f\\u0442\\u044c\\u0441\\u044f \\u0432 \\u0438\\u043d\\u043a\\u0443\\u0431\\u0430\\u0442\\u043e\\u0440\\u0435, \\u043d\\u043e \\u043e\\u043d\\u0430 \\u0441\\u043a\\u0430\\u0437\\u0430\\u043b\\u0430, \\u0447\\u0442\\u043e \\u043d\\u0435 \\u043c\\u043e\\u0436\\u0435\\u0442 \\u043c\\u0435\\u043d\\u044f \\u043f\\u043e\\u0441\\u043b\\u0443\\u0448\\u0430\\u0442\\u044c\\u0441\\u044f, \\u043f\\u043e\\u0442\\u043e\\u043c\\u0443 \\u0447\\u0442\\u043e \\u0435\\u0439 \\u0436\\u0430\\u043b\\u043a\\u043e \\u0411\\u0440\\u043e\\u043d\\u0442\\u044e. \\u0418 \\u043d\\u0430 \\u0441\\u043b\\u0435\\u0434\\u0443\\u044e\\u0449\\u0438\\u0439 \\u0434\\u0435\\u043d\\u044c \\u043e\\u043d\\u0430 \\u0441\\u043d\\u043e\\u0432\\u0430 \\u043f\\u0440\\u043e\\u0431\\u0440\\u0430\\u043b\\u0430\\u0441\\u044c \\u0432 \\u0438\\u043d\\u043a\\u0443\\u0431\\u0430\\u0442\\u043e\\u0440. \\u0415\\u0435 \\u043f\\u0440\\u043e\\u0432\\u0435\\u043b\\u0438 \\u043a\\u043e\\u0441\\u043c\\u043e\\u043d\\u0430\\u0432\\u0442\\u044b \\u0441 \\u043a\\u043e\\u0440\\u0430\\u0431\\u043b\\u044f \\u00ab\\u042e\\u043f\\u0438\\u0442\\u0435\\u0440-8\\u00bb. \\u041a\\u043e\\u0441\\u043c\\u043e\\u043d\\u0430\\u0432\\u0442\\u044b \\u0431\\u044b\\u043b\\u0438 \\u0433\\u0435\\u0440\\u043e\\u044f\\u043c\\u0438, \\u0438 \\u043d\\u0438\\u043a\\u0442\\u043e \\u043d\\u0435 \\u043c\\u043e\\u0433 \\u043e\\u0442\\u043a\\u0430\\u0437\\u0430\\u0442\\u044c \\u0438\\u043c.\\n-\\u0414\\u043e\\u0431\\u0440\\u043e\\u0435 \\u0443\\u0442\\u0440\\u043e, \\u0411\\u0440\\u043e\\u043d\\u0442\\u044f,- \\u0441\\u043a\\u0430\\u0437\\u0430\\u043b\\u0430 \\u043e\\u043d\\u0430, \\u043f\\u043e\\u0434\\u0445\\u043e\\u0434\\u044f \\u043a \\u043a\\u043e\\u043b\\u043f\\u0430\\u043a\\u0443.\\n\\u0411\\u0440\\u043e\\u043d\\u0442\\u043e\\u0437\\u0430\\u0432\\u0440\\u0435\\u043d\\u043e\\u043a \\u0438\\u0441\\u043a\\u043e\\u0441\\u0430 \\u043f\\u043e\\u0441\\u043c\\u043e\\u0442\\u0440\\u0435\\u043b \\u043d\\u0430 \\u043d\\u0435\\u0435.\",\n          \"-\\u0412\\u044b \\u0441\\u0435\\u0440\\u0434\\u0438\\u0442\\u044b\\u0439, \\u0442\\u043e\\u0432\\u0430\\u0440\\u0438\\u0449, \\u043f\\u043e\\u0442\\u043e\\u043c\\u0443 \\u0447\\u0442\\u043e \\u043f\\u043b\\u043e\\u0445\\u043e \\u0441\\u0435\\u0431\\u044f \\u0447\\u0443\\u0432\\u0441\\u0442\\u0432\\u0443\\u0435\\u0442\\u0435. \\u0412\\u0430\\u043c \\u043d\\u0430\\u0434\\u043e \\u043f\\u043e\\u043b\\u0435\\u0436\\u0430\\u0442\\u044c.\\n-\\u0422\\u044b \\u0434\\u043e\\u043a\\u0442\\u043e\\u0440, \\u0447\\u0442\\u043e \\u043b\\u0438?- \\u043e\\u043a\\u0440\\u044b\\u0441\\u0438\\u043b\\u0441\\u044f \\u0441\\u043b\\u0443\\u0436\\u0438\\u0432\\u044b\\u0439.- \\u0410 \\u043d\\u0443 \\u043f\\u043e\\u043a\\u0430\\u0436\\u044c \\u0434\\u043e\\u043a\\u0443\\u043c\\u0435\\u043d\\u0442!\\n-\\u0414\\u043e\\u043a\\u0442\\u043e\\u0440, \\u0434\\u043e\\u043a\\u0442\\u043e\\u0440,- \\u0437\\u0430\\u043a\\u0438\\u0432\\u0430\\u043b \\u0430\\u0437\\u0438\\u0430\\u0442.- \\u0412\\u0430\\u043c \\u0432\\u043e\\u0442 \\u0437\\u0434\\u0435\\u0441\\u044c \\u0441\\u043e\\u0432\\u0441\\u0435\\u043c \\u0431\\u043e\\u043b\\u044c\\u043d\\u043e.\\n\\u041e\\u043d \\u0442\\u043a\\u043d\\u0443\\u043b \\u043c\\u0438\\u043b\\u0438\\u0446\\u0438\\u043e\\u043d\\u0435\\u0440\\u0443 \\u043f\\u0430\\u043b\\u044c\\u0446\\u0435\\u043c \\u043a\\u0443\\u0434\\u0430-\\u0442\\u043e \\u0432 \\u0436\\u0438\\u0432\\u043e\\u0442. \\u0422\\u0430\\u043c, \\u043a\\u0430\\u0436\\u0435\\u0442\\u0441\\u044f, \\u0432 \\u0441\\u0430\\u043c\\u043e\\u043c \\u0434\\u0435\\u043b\\u0435 \\u0431\\u044b\\u043b\\u043e \\u00ab\\u0441\\u043e\\u0432\\u0441\\u0435\\u043c \\u0431\\u043e\\u043b\\u044c\\u043d\\u043e\\u00bb- \\u043a\\u0430\\u0437\\u0435\\u043d\\u043d\\u044b\\u0439 \\u0447\\u0435\\u043b\\u043e\\u0432\\u0435\\u043a \\u043e\\u0439\\u043a\\u043d\\u0443\\u043b, \\u0441\\u0442\\u0430\\u043b \\u043e\\u0447\\u0435\\u043d\\u044c \\u0431\\u043b\\u0435\\u0434\\u0435\\u043d, \\u0432\\u044b\\u0440\\u043e\\u043d\\u0438\\u043b \\u0432\\u0438\\u043d\\u0442\\u043e\\u0432\\u043a\\u0443, \\u043f\\u043e\\u0448\\u0430\\u0442\\u043d\\u0443\\u043b\\u0441\\u044f.\\n-\\u0415\\u043c\\u0443 \\u043d\\u0435\\u0445\\u043e\\u0440\\u043e\\u0448\\u043e,- \\u043e\\u0431\\u044a\\u044f\\u0441\\u043d\\u0438\\u043b \\u043a\\u0438\\u0442\\u0430\\u0435\\u0446 \\u0434\\u0440\\u0443\\u0433\\u0438\\u043c \\u043f\\u0430\\u0441\\u0441\\u0430\\u0436\\u0438\\u0440\\u0430\\u043c, \\u0431\\u0435\\u0440\\u0435\\u0436\\u043d\\u043e \\u0432\\u0437\\u044f\\u0432 \\u043c\\u0438\\u043b\\u0438\\u0446\\u0438\\u043e\\u043d\\u0435\\u0440\\u0430 \\u0437\\u0430 \\u0432\\u043e\\u0440\\u043e\\u0442.- \\u041e\\u043d \\u043d\\u0435\\u043c\\u043d\\u043e\\u0436\\u043a\\u043e \\u043f\\u043e\\u043b\\u0435\\u0436\\u0438\\u0442. \\u041f\\u043e\\u0434\\u0432\\u0438\\u043d\\u044c\\u0442\\u0435\\u0441\\u044c, \\u0433\\u0440\\u0430\\u0436\\u0434\\u0430\\u043d\\u0435\\u2026 \\u0411\\u043e\\u043b\\u044c\\u0448\\u043e\\u0435 \\u0441\\u043f\\u0430\\u0441\\u0438\\u0431\\u043e.\\n\\u0421 \\u044d\\u0442\\u0438\\u043c\\u0438 \\u0441\\u043b\\u043e\\u0432\\u0430\\u043c\\u0438 \\u043e\\u043d \\u0443\\u043b\\u043e\\u0436\\u0438\\u043b \\u0441\\u043e\\u043c\\u043b\\u0435\\u0432\\u0448\\u0435\\u0433\\u043e \\u0441\\u043b\\u0443\\u0436\\u0438\\u0442\\u0435\\u043b\\u044f \\u0441\\u043e\\u0446\\u0438\\u0430\\u043b\\u0438\\u0441\\u0442\\u0438\\u0447\\u0435\\u0441\\u043a\\u043e\\u0439 \\u0437\\u0430\\u043a\\u043e\\u043d\\u043d\\u043e\\u0441\\u0442\\u0438 \\u043d\\u0430 \\u043f\\u0435\\u0440\\u0440\\u043e\\u043d \\u0438, \\u0432\\u0441\\u043a\\u0438\\u043d\\u0443\\u0432 \\u043f\\u043e\\u043a\\u043b\\u0430\\u0436\\u0443 \\u043f\\u043e\\u0432\\u044b\\u0448\\u0435, \\u043d\\u0435\\u0442\\u043e\\u0440\\u043e\\u043f\\u043b\\u0438\\u0432\\u043e \\u043f\\u043e\\u0434\\u043d\\u044f\\u043b\\u0441\\u044f \\u043f\\u043e \\u0441\\u0442\\u0443\\u043f\\u0435\\u043d\\u044c\\u043a\\u0430\\u043c. \\u0421\\u043b\\u0435\\u0434\\u043e\\u043c \\u0440\\u0438\\u043d\\u0443\\u043b\\u0438\\u0441\\u044c \\u043e\\u0441\\u0442\\u0430\\u043b\\u044c\\u043d\\u044b\\u0435.\\n\\u0412\\u043d\\u0443\\u0442\\u0440\\u0438 \\u043e\\u043a\\u0430\\u0437\\u0430\\u043b\\u043e\\u0441\\u044c, \\u0447\\u0442\\u043e \\u043f\\u043e\\u0437\\u0430\\u0440\\u0438\\u0432\\u0448\\u0438\\u0435\\u0441\\u044f \\u043d\\u0430 \\u043f\\u0435\\u0440\\u0432\\u044b\\u0439 \\u043a\\u043b\\u0430\\u0441\\u0441 \\u043f\\u0440\\u043e\\u0441\\u0447\\u0438\\u0442\\u0430\\u043b\\u0438\\u0441\\u044c. \\u041d\\u0435\\u0434\\u0430\\u0432\\u043d\\u043e \\u0437\\u0434\\u0435\\u0441\\u044c \\u0435\\u0445\\u0430\\u043b\\u0438 \\u0434\\u043e\\u043c\\u043e\\u0439 \\u0441 \\u0444\\u0440\\u043e\\u043d\\u0442\\u0430 \\u0443\\u0441\\u0441\\u0443\\u0440\\u0438\\u0439\\u0441\\u043a\\u0438\\u0435 \\u043a\\u0430\\u0437\\u0430\\u043a\\u0438, \\u043d\\u0435 \\u043f\\u043e\\u0436\\u0435\\u043b\\u0430\\u0432\\u0448\\u0438\\u0435 \\u0440\\u0430\\u0441\\u0441\\u0442\\u0430\\u0432\\u0430\\u0442\\u044c\\u0441\\u044f \\u0441\\u043e \\u0441\\u0432\\u043e\\u0438\\u043c\\u0438 \\u043b\\u043e\\u0448\\u0430\\u0434\\u044c\\u043c\\u0438, \\u0438 \\u0440\\u0435\\u0441\\u043f\\u0435\\u043a\\u0442\\u0430\\u0431\\u0435\\u043b\\u044c\\u043d\\u044b\\u0439 \\u0432\\u0430\\u0433\\u043e\\u043d, \\u043f\\u043e\\u0434\\u043e\\u0431\\u043d\\u043e \\u0421\\u0430\\u043c\\u0430\\u0440\\u0441\\u043a\\u043e\\u043c\\u0443 \\u0432\\u043e\\u043a\\u0437\\u0430\\u043b\\u0443, \\u043f\\u0430\\u043b \\u0436\\u0435\\u0440\\u0442\\u0432\\u043e\\u0439 \\u0440\\u0435\\u0432\\u043e\\u043b\\u044e\\u0446\\u0438\\u0438. \\u0412 \\u0441\\u0442\\u0435\\u043d\\u044b \\u043d\\u0430\\u043c\\u0435\\u0440\\u0442\\u0432\\u043e \\u0432\\u043f\\u0438\\u0442\\u0430\\u043b\\u0441\\u044f \\u043a\\u0438\\u0441\\u043b\\u044b\\u0439 \\u043a\\u043e\\u043d\\u0441\\u043a\\u0438\\u0439 \\u0437\\u0430\\u043f\\u0430\\u0445, \\u0430 \\u043f\\u0435\\u0440\\u0435\\u0433\\u043e\\u0440\\u043e\\u0434\\u043a\\u0438, \\u043f\\u043e\\u043b\\u043a\\u0438, \\u0441\\u0442\\u043e\\u043b\\u0438\\u043a\\u0438, \\u0434\\u0438\\u0432\\u0430\\u043d\\u0447\\u0438\\u043a\\u0438 \\u0441\\u0433\\u043e\\u0440\\u0435\\u043b\\u0438 \\u0432 \\u043a\\u043e\\u0441\\u0442\\u0440\\u0435, \\u043e\\u0442 \\u043a\\u043e\\u0442\\u043e\\u0440\\u043e\\u0433\\u043e \\u043d\\u0430 \\u043f\\u043e\\u043b\\u0443, \\u043f\\u043e\\u0441\\u0435\\u0440\\u0435\\u0434\\u0438\\u043d\\u0435 \\u0440\\u0430\\u0437\\u043e\\u0440\\u0435\\u043d\\u043d\\u043e\\u0433\\u043e \\u043f\\u0443\\u0441\\u0442\\u043e\\u0433\\u043e \\u043f\\u0440\\u043e\\u0441\\u0442\\u0440\\u0430\\u043d\\u0441\\u0442\\u0432\\u0430, \\u043e\\u0441\\u0442\\u0430\\u043b\\u0430\\u0441\\u044c \\u043f\\u0440\\u043e\\u0436\\u0436\\u0435\\u043d\\u043d\\u0430\\u044f \\u0432\\u044b\\u0431\\u043e\\u0438\\u043d\\u0430. \\u0423\\u0446\\u0435\\u043b\\u0435\\u043b\\u043e \\u0442\\u043e\\u043b\\u044c\\u043a\\u043e \\u043e\\u0434\\u043d\\u043e \\u043a\\u0440\\u0430\\u0439\\u043d\\u0435\\u0435 \\u043a\\u0443\\u043f\\u0435. \\u041a \\u043d\\u0435\\u043c\\u0443 \\u0438 \\u043f\\u043e\\u0441\\u043f\\u0435\\u0448\\u0438\\u043b\\u0438 \\u043f\\u0435\\u0440\\u0432\\u044b\\u0435 \\u0432\\u043e\\u0440\\u0432\\u0430\\u0432\\u0448\\u0438\\u0435\\u0441\\u044f, \\u0445\\u043e\\u0442\\u044f \\u00ab\\u043f\\u043e\\u0441\\u043f\\u0435\\u0448\\u0430\\u043d\\u0438\\u0435\\u043c\\u00bb \\u043d\\u0430\\u0437\\u0432\\u0430\\u0442\\u044c \\u044d\\u0442\\u043e \\u0431\\u044b\\u043b\\u043e \\u0442\\u0440\\u0443\\u0434\\u043d\\u043e. \\u041d\\u0438\\u043a\\u0442\\u043e \\u043d\\u0435 \\u043e\\u0441\\u043c\\u0435\\u043b\\u0438\\u043b\\u0441\\u044f \\u043e\\u0431\\u043e\\u0433\\u043d\\u0430\\u0442\\u044c \\u0432\\u0435\\u0436\\u043b\\u0438\\u0432\\u043e\\u0433\\u043e \\u043a\\u0438\\u0442\\u0430\\u0439\\u0446\\u0430 \\u0441 \\u0435\\u0433\\u043e \\u0433\\u0440\\u043e\\u043c\\u043e\\u0437\\u0434\\u043a\\u043e\\u0439 \\u043d\\u043e\\u0448\\u0435\\u0439, \\u0430 \\u043e\\u043d \\u0434\\u0432\\u0438\\u0433\\u0430\\u043b\\u0441\\u044f \\u0441\\u043e\\u043b\\u0438\\u0434\\u043d\\u043e, \\u0431\\u0435\\u0437 \\u0441\\u0443\\u0435\\u0442\\u044b. \\u0422\\u043e\\u043b\\u044c\\u043a\\u043e \\u043a\\u043e\\u0433\\u0434\\u0430 \\u0432\\u043e\\u0441\\u0442\\u043e\\u0447\\u043d\\u044b\\u0439 \\u0447\\u0435\\u043b\\u043e\\u0432\\u0435\\u043a, \\u043e\\u0441\\u043c\\u043e\\u0442\\u0440\\u0435\\u0432\\u0448\\u0438\\u0441\\u044c, \\u0443\\u0441\\u0435\\u043b\\u0441\\u044f, \\u043f\\u0440\\u0438\\u0441\\u0442\\u0440\\u043e\\u0438\\u0432 \\u043a \\u043e\\u043a\\u043d\\u0443 \\u0432\\u0435\\u0440\\u0442\\u0438\\u043a\\u0430\\u043b\\u044c\\u043d\\u043e \\u0441\\u0432\\u043e\\u0439 \\u0442\\u044e\\u043a, \\u0432 \\u043e\\u0442\\u0434\\u0435\\u043b\\u0435\\u043d\\u0438\\u0435 \\u0431\\u0440\\u043e\\u0441\\u0438\\u043b\\u0438\\u0441\\u044c \\u0441\\u0430\\u043c\\u044b\\u0435 \\u0431\\u043e\\u0435\\u0432\\u0438\\u0442\\u044b\\u0435. \\u0412\\u0442\\u043e\\u0440\\u044b\\u043c \\u0432\\u043e\\u0440\\u0432\\u0430\\u043b\\u0441\\u044f \\u0432\\u0435\\u0440\\u0437\\u0438\\u043b\\u0430-\\u043c\\u0430\\u0442\\u0440\\u043e\\u0441, \\u0443\\u0436\\u0435 \\u043e\\u043f\\u0440\\u0430\\u0432\\u0438\\u0432\\u0448\\u0438\\u0439\\u0441\\u044f \\u043e\\u0442 \\u0443\\u0434\\u0430\\u0440\\u0430 \\u043b\\u043e\\u043a\\u0442\\u0435\\u043c.\\n-\\u042f \\u043d\\u0430\\u0432\\u0435\\u0440\\u0445, \\u043d\\u0435 \\u0432\\u043e\\u0437\\u0440\\u0430\\u0436\\u0430\\u0435\\u0442\\u0435?- \\u043f\\u043e\\u0447\\u0442\\u0438\\u0442\\u0435\\u043b\\u044c\\u043d\\u043e \\u0441\\u043f\\u0440\\u043e\\u0441\\u0438\\u043b \\u043e\\u043d \\u0438 \\u043e\\u043a\\u043a\\u0443\\u043f\\u0438\\u0440\\u043e\\u0432\\u0430\\u043b \\u043a\\u043e\\u0437\\u044b\\u0440\\u043d\\u0443\\u044e \\u043f\\u043e\\u0437\\u0438\\u0446\\u0438\\u044e- \\u043e\\u0434\\u043d\\u0443 \\u0438\\u0437 \\u0431\\u0430\\u0433\\u0430\\u0436\\u043d\\u044b\\u0445 \\u043f\\u043e\\u043b\\u043e\\u043a, \\u0433\\u0434\\u0435 \\u043c\\u043e\\u0436\\u043d\\u043e \\u0431\\u044b\\u043b\\u043e \\u0440\\u0430\\u0437\\u043b\\u0435\\u0447\\u044c\\u0441\\u044f \\u0432\\u043e \\u0432\\u0435\\u0441\\u044c \\u0440\\u043e\\u0441\\u0442.\",\n          \"-\\u041d\\u043e \\u0435\\u0441\\u043b\\u0438 \\u043e\\u043d\\u0430\\u2026\\n-\\u041e\\u043d\\u0430 \\u0443\\u0448\\u043b\\u0430 \\u0435\\u0449\\u0435 \\u0434\\u043e \\u0437\\u0430\\u043a\\u0430\\u0442\\u0430,- \\u043f\\u0435\\u0440\\u0435\\u0431\\u0438\\u043b \\u0435\\u0433\\u043e \\u0413\\u0435\\u043d\\u0440\\u0438 \\u041b\\u044d\\u043d\\u0434\\u0435\\u0440.\\n\\u0411\\u0443\\u0434\\u0442\\u043e \\u043f\\u0440\\u0438 \\u0441\\u0432\\u0435\\u0442\\u0435 \\u0434\\u043d\\u044f \\u0432\\u043e\\u043b\\u043a (\\u0438\\u043b\\u0438 \\u043c\\u0435\\u0434\\u0432\\u0435\\u0434\\u044c) \\u043d\\u0435 \\u0441\\u0442\\u0430\\u043d\\u0435\\u0442 \\u043d\\u0430\\u043f\\u0430\\u0434\\u0430\\u0442\\u044c \\u043d\\u0430 \\u0431\\u0435\\u0437\\u0437\\u0430\\u0449\\u0438\\u0442\\u043d\\u0443\\u044e \\u0436\\u0435\\u043d\\u0449\\u0438\\u043d\\u0443. \\u0425\\u043e\\u0442\\u044f \\u043a\\u0430\\u043a \\u0437\\u043d\\u0430\\u0442\\u044c. \\u0414\\u044d\\u0432\\u0438\\u0434 \\u0431\\u044b\\u043b \\u0431\\u0430\\u043d\\u043a\\u043e\\u0432\\u0441\\u043a\\u0438\\u043c \\u0441\\u043b\\u0443\\u0436\\u0430\\u0449\\u0438\\u043c, \\u0430 \\u043d\\u0435 \\u0441\\u043f\\u0435\\u0446\\u0438\\u0430\\u043b\\u0438\\u0441\\u0442\\u043e\\u043c \\u043f\\u043e \\u0434\\u0438\\u043a\\u043e\\u0439 \\u043f\\u0440\\u0438\\u0440\\u043e\\u0434\\u0435. \\u0418 \\u043e\\u043d \\u0431\\u044b\\u043b \\u043c\\u043e\\u043b\\u043e\\u0434.\\n-\\u0415\\u0441\\u043b\\u0438 \\u043f\\u0440\\u0438\\u0434\\u0435\\u0442 \\u0430\\u0432\\u0430\\u0440\\u0438\\u0439\\u043d\\u044b\\u0439 \\u0441\\u043e\\u0441\\u0442\\u0430\\u0432, \\u0430 \\u0435\\u0435 \\u0437\\u0434\\u0435\\u0441\\u044c \\u043d\\u0435 \\u0431\\u0443\\u0434\\u0435\\u0442, \\u043e\\u043d\\u0430 \\u043e\\u0441\\u0442\\u0430\\u043d\\u0435\\u0442\\u0441\\u044f \\u0437\\u0434\\u0435\\u0441\\u044c.\\n\\u0423 \\u043d\\u0435\\u0433\\u043e \\u043d\\u0438\\u043a\\u0430\\u043a \\u043d\\u0435 \\u043f\\u043e\\u043b\\u0443\\u0447\\u0430\\u043b\\u043e\\u0441\\u044c \\u0434\\u043e\\u0432\\u0435\\u0441\\u0442\\u0438 \\u0434\\u043e \\u0438\\u0445 \\u0441\\u043e\\u0437\\u043d\\u0430\\u043d\\u0438\\u044f \\u044d\\u0442\\u0443 \\u043f\\u0440\\u043e\\u0441\\u0442\\u0443\\u044e \\u043c\\u044b\\u0441\\u043b\\u044c. \\u00ab\\u041d\\u0435 \\u043a\\u043e\\u043d\\u0442\\u0430\\u0447\\u0438\\u043b\\u043e\\u00bb, \\u043a\\u0430\\u043a \\u0432\\u044b\\u0440\\u0430\\u0436\\u0430\\u043b\\u0438\\u0441\\u044c \\u0440\\u0435\\u0431\\u044f\\u0442\\u0430 \\u0438\\u0437 \\u0447\\u0438\\u043a\\u0430\\u0433\\u0441\\u043a\\u043e\\u0433\\u043e \\u043e\\u0444\\u0438\\u0441\\u0430.\\n\\u0413\\u0435\\u043d\\u0440\\u0438 \\u043f\\u043e\\u0434\\u043d\\u044f\\u043b \\u0431\\u0440\\u043e\\u0432\\u0438:\\n-\\u0425\\u043e\\u0447\\u0435\\u0448\\u044c \\u0441\\u043a\\u0430\\u0437\\u0430\\u0442\\u044c, \\u0435\\u0441\\u043b\\u0438 \\u0432\\u044b \\u043e\\u0431\\u0430 \\u043e\\u043f\\u043e\\u0437\\u0434\\u0430\\u0435\\u0442\\u0435 \\u043d\\u0430 \\u043f\\u043e\\u0435\\u0437\\u0434, \\u0431\\u0443\\u0434\\u0435\\u0442 \\u0447\\u0435\\u043c-\\u0442\\u043e \\u043b\\u0443\\u0447\\u0448\\u0435?\\n\\u0415\\u0441\\u043b\\u0438 \\u043e\\u043d\\u0438 \\u043e\\u0431\\u0430 \\u043e\\u043f\\u043e\\u0437\\u0434\\u0430\\u044e\\u0442, \\u0442\\u043e \\u043b\\u0438\\u0431\\u043e \\u043f\\u043e\\u0435\\u0434\\u0443\\u0442 \\u043d\\u0430 \\u0430\\u0432\\u0442\\u043e\\u0431\\u0443\\u0441\\u0435, \\u043b\\u0438\\u0431\\u043e \\u0434\\u043e\\u0436\\u0434\\u0443\\u0442\\u0441\\u044f \\u0441\\u043b\\u0435\\u0434\\u0443\\u044e\\u0449\\u0435\\u0433\\u043e \\u0441\\u043e\\u0441\\u0442\\u0430\\u0432\\u0430. \\u041b\\u044d\\u043d\\u0434\\u0435\\u0440\\u044b \\u043d\\u0435 \\u043c\\u043e\\u0433\\u043b\\u0438 \\u044d\\u0442\\u043e\\u0433\\u043e \\u043d\\u0435 \\u043f\\u043e\\u043d\\u0438\\u043c\\u0430\\u0442\\u044c. \\u0418\\u043b\\u0438 \\u0432\\u0441\\u0435-\\u0442\\u0430\\u043a\\u0438?.. \\u0418\\u0445 \\u0443\\u0441\\u0442\\u0430\\u043b\\u043e\\u0441\\u0442\\u044c \\u0431\\u0440\\u043e\\u0441\\u0430\\u043b\\u0430\\u0441\\u044c \\u0432 \\u0433\\u043b\\u0430\\u0437\\u0430. \\u041f\\u0435\\u0440\\u0435\\u0434 \\u0414\\u044d\\u0432\\u0438\\u0434\\u043e\\u043c \\u0441\\u0438\\u0434\\u0435\\u043b\\u0430 \\u043f\\u0430\\u0440\\u0430 \\u0438\\u0437\\u043c\\u0443\\u0447\\u0435\\u043d\\u043d\\u044b\\u0445 \\u043b\\u044e\\u0434\\u0435\\u0439, \\u0432\\u0440\\u0435\\u043c\\u0435\\u043d\\u043d\\u043e \\u0437\\u0430\\u0441\\u0442\\u0440\\u044f\\u0432\\u0448\\u0438\\u0445 \\u0432 \\u043a\\u0440\\u0430\\u044e \\u043a\\u043e\\u0432\\u0431\\u043e\\u0439\\u0441\\u043a\\u0438\\u0445 \\u043a\\u043e\\u043c\\u0431\\u0438\\u043d\\u0435\\u0437\\u043e\\u043d\\u043e\\u0432. \\u041d\\u043e \\u043a\\u043e\\u0433\\u043e \\u0432\\u043e\\u043e\\u0431\\u0449\\u0435 \\u0437\\u0430\\u0431\\u043e\\u0442\\u0438\\u0442 \\u0441\\u0443\\u0434\\u044c\\u0431\\u0430 \\u0423\\u0438\\u043b\\u043b\\u044b? \\u0415\\u0441\\u043b\\u0438 \\u043e\\u043d\\u0430 \\u0441\\u0433\\u0438\\u043d\\u0435\\u0442 \\u043d\\u0430 \\u043f\\u0440\\u043e\\u0441\\u0442\\u043e\\u0440\\u0430\\u0445 \\u0412\\u044b\\u0441\\u043e\\u043a\\u0438\\u0445 \\u0440\\u0430\\u0432\\u043d\\u0438\\u043d, \\u043a\\u0442\\u043e \\u0435\\u0449\\u0435 \\u043e \\u043d\\u0435\\u0439 \\u0432\\u0441\\u043f\\u043e\\u043c\\u043d\\u0438\\u0442, \\u043a\\u0440\\u043e\\u043c\\u0435 \\u0414\\u044d\\u0432\\u0438\\u0434\\u0430 \\u0421\\u044d\\u043d\\u0434\\u0435\\u0440\\u0441\\u043e\\u043d\\u0430? \\u0415\\u0435 \\u0437\\u0434\\u0435\\u0441\\u044c \\u0434\\u0430\\u0436\\u0435 \\u043d\\u0435\\u0434\\u043e\\u043b\\u044e\\u0431\\u043b\\u0438\\u0432\\u0430\\u043b\\u0438. \\u042d\\u0442\\u0430 \\u0441\\u0442\\u0435\\u0440\\u0432\\u0430 \\u0423\\u0440\\u0441\\u0443\\u043b\\u0430 \\u0414\\u044d\\u0432\\u0438\\u0441 \\u043e\\u0434\\u043d\\u0430\\u0436\\u0434\\u044b \\u0437\\u0430\\u044f\\u0432\\u0438\\u043b\\u0430 \\u0435\\u043c\\u0443, \\u0447\\u0442\\u043e \\u0435\\u0441\\u043b\\u0438 \\u0431\\u044b \\u043c\\u0430\\u0442\\u044c \\u0423\\u0438\\u043b\\u043b\\u044b \\u0432\\u043e\\u0432\\u0440\\u0435\\u043c\\u044f \\u0443\\u0431\\u0440\\u0430\\u043b\\u0430 \\u0438\\u0437 \\u0435\\u0435 \\u0438\\u043c\\u0435\\u043d\\u0438 \\u043f\\u043e\\u0441\\u043b\\u0435\\u0434\\u043d\\u044e\\u044e \\u0431\\u0443\\u043a\\u0432\\u0443, \\u00ab\\u043e\\u043d\\u043e \\u043f\\u043e\\u0434\\u0445\\u043e\\u0434\\u0438\\u043b\\u043e \\u0431\\u044b \\u0435\\u0439 \\u043a\\u0443\\u0434\\u0430 \\u0431\\u043e\\u043b\\u044c\\u0448\\u0435\\u00bb.\"\n        ],\n        \"semantic_type\": \"\",\n        \"description\": \"\"\n      }\n    }\n  ]\n}"
            }
          },
          "metadata": {},
          "execution_count": 6
        }
      ]
    },
    {
      "cell_type": "markdown",
      "source": [
        "Заведем словарь соответствия имени автора его номеру:"
      ],
      "metadata": {
        "id": "sMZqdsH9UGJn"
      }
    },
    {
      "cell_type": "code",
      "source": [
        "writers = ['Akunin', 'Bulychev', 'Chehov', 'Dostoevsky', 'Gogol', 'King',\n",
        "       'Pratchett', 'Remark']\n",
        "writers_to_label = {writer: i for i, writer in enumerate(writers)}\n",
        "label_to_writers = {i: writer for i, writer in enumerate(writers)}"
      ],
      "metadata": {
        "id": "iXI11mqwDN_6"
      },
      "execution_count": null,
      "outputs": []
    },
    {
      "cell_type": "markdown",
      "source": [
        "Создадим словарь dataset, который будет устроен так же, как переменная dataset в ноутбуке занятия. В тестовой части (dataset['test']) зададим для удобства всем текстам label=0."
      ],
      "metadata": {
        "id": "BR2skpOaUKh0"
      }
    },
    {
      "cell_type": "code",
      "source": [
        "dataset = {}\n",
        "\n",
        "dataset['train'] = [{'text':text, 'label':writers_to_label[label]} \\\n",
        "              for text, label in zip(np.array(train_data['text']), np.array(train_data['label']))]\n",
        "dataset['test'] = [{'text':text, 'label': 0} \\\n",
        "              for text in np.array(test_data['text'])]"
      ],
      "metadata": {
        "id": "o60H115wDT7C"
      },
      "execution_count": null,
      "outputs": []
    },
    {
      "cell_type": "code",
      "source": [
        "len(dataset['test'])"
      ],
      "metadata": {
        "id": "hevj_Yc4W-Kd",
        "outputId": "8f48716b-9255-48c6-c714-85d8eb3f2542",
        "colab": {
          "base_uri": "https://localhost:8080/"
        }
      },
      "execution_count": null,
      "outputs": [
        {
          "output_type": "execute_result",
          "data": {
            "text/plain": [
              "1651"
            ]
          },
          "metadata": {},
          "execution_count": 9
        }
      ]
    },
    {
      "cell_type": "code",
      "source": [
        "# библиотека для работы со строками. С ее помощью мы удалим знаки препинания\n",
        "import string\n",
        "# счетчик для создания счетчика слов\n",
        "from collections import Counter\n",
        "# библиотека, с помощью которой разобьем текст на токены\n",
        "import nltk\n",
        "from nltk.tokenize import word_tokenize\n",
        "\n",
        "# скачиваем нужный пакет данных для работы библиотеки nltk\n",
        "nltk.download('punkt')\n",
        "\n",
        "# функция для обработки предложения\n",
        "def process_and_tokenize_text(text):\n",
        "    # приводим к нижнему регистру и убираем пунктуацию\n",
        "    prccessed_text = text.lower().translate(\n",
        "        str.maketrans('', '', string.punctuation)\n",
        "    )\n",
        "    # токенизируем текст\n",
        "    tokens = word_tokenize(prccessed_text)\n",
        "    return tokens\n",
        "\n",
        "# массивы для хранения токенизированных тренировочных и тестовых данных\n",
        "train_data = []\n",
        "test_data = []\n",
        "\n",
        "# пустой счетчик слов\n",
        "words = Counter()\n",
        "\n",
        "# проходимся по текстам обучающего датасета и предобрабатываем их\n",
        "for example in tqdm_notebook(dataset['train']):\n",
        "    text = example['text']\n",
        "    label = example['label']\n",
        "    text_processed = process_and_tokenize_text(text)\n",
        "    train_data.append((text_processed, label))\n",
        "\n",
        "    # увеличиваем счетчик каждого слова в словаре\n",
        "    for word in text_processed:\n",
        "        words[word] += 1\n",
        "\n",
        "# проходимся по текстам тестового датасета и предобрабатываем их\n",
        "for example in tqdm_notebook(dataset['test']):\n",
        "    text = example['text']\n",
        "    label = example['label']\n",
        "    text_processed = process_and_tokenize_text(text)\n",
        "    test_data.append((text_processed, label))"
      ],
      "metadata": {
        "id": "MHRJ0zv2PJa2",
        "outputId": "38f4bd79-0108-4de0-a51e-b7a4eff11a60",
        "colab": {
          "base_uri": "https://localhost:8080/",
          "height": 217,
          "referenced_widgets": [
            "fec698a332d543bba8c997e6c6763a40",
            "e7a1992fc05b49fe8b49f24318372067",
            "636b0a399a62459890ab534b1a75b412",
            "80b05daa1adc43fb95b28557e3fcb131",
            "9be1438d203046aebd31f58551d1b6f3",
            "aca9599e087549cea1ab1fc6fe71126f",
            "0b0baef64f11437192bf093e3c12a7f3",
            "0c1079db6e584a8b871af20a72389aae",
            "af34361998ab4cb0b7c992a76d7c4969",
            "08a43a1da94844079276ad34436466db",
            "04dc08ccd9f4407381846e2660c08cab",
            "1bffb8ca1e144bfc8f760ee17c322d3f",
            "4923cb3e55f54a90916284970323a0ba",
            "650b7873929243eb95ba6ebd9258e5cd",
            "ccdb8c57b07c45298f49664840755a7e",
            "036dcb4c104c48a2986ef27cfc40a838",
            "73cd361f97d548ff9f14a6a44fdeaee1",
            "d14fb652ae1846a8ad428d28d4e37d6c",
            "2b582fffb3cb4603bb562b3004b103b5",
            "0d771f9ba2e540c8835d9f046359377c",
            "f6cfb1264e4a4813b3eb736d096122f4",
            "8b762586f1104865bda24446d89f5139"
          ]
        }
      },
      "execution_count": null,
      "outputs": [
        {
          "output_type": "stream",
          "name": "stderr",
          "text": [
            "[nltk_data] Downloading package punkt to /root/nltk_data...\n",
            "[nltk_data]   Package punkt is already up-to-date!\n",
            "<ipython-input-10-ccb0c4e80201>:30: TqdmDeprecationWarning: This function will be removed in tqdm==5.0.0\n",
            "Please use `tqdm.notebook.tqdm` instead of `tqdm.tqdm_notebook`\n",
            "  for example in tqdm_notebook(dataset['train']):\n"
          ]
        },
        {
          "output_type": "display_data",
          "data": {
            "text/plain": [
              "  0%|          | 0/1651 [00:00<?, ?it/s]"
            ],
            "application/vnd.jupyter.widget-view+json": {
              "version_major": 2,
              "version_minor": 0,
              "model_id": "fec698a332d543bba8c997e6c6763a40"
            }
          },
          "metadata": {}
        },
        {
          "output_type": "stream",
          "name": "stderr",
          "text": [
            "<ipython-input-10-ccb0c4e80201>:41: TqdmDeprecationWarning: This function will be removed in tqdm==5.0.0\n",
            "Please use `tqdm.notebook.tqdm` instead of `tqdm.tqdm_notebook`\n",
            "  for example in tqdm_notebook(dataset['test']):\n"
          ]
        },
        {
          "output_type": "display_data",
          "data": {
            "text/plain": [
              "  0%|          | 0/1651 [00:00<?, ?it/s]"
            ],
            "application/vnd.jupyter.widget-view+json": {
              "version_major": 2,
              "version_minor": 0,
              "model_id": "1bffb8ca1e144bfc8f760ee17c322d3f"
            }
          },
          "metadata": {}
        }
      ]
    },
    {
      "cell_type": "code",
      "source": [
        "len(test_data)"
      ],
      "metadata": {
        "id": "ZqJsmfLuXCCp",
        "outputId": "8934e69a-e799-4e30-c3f1-49ae5dd34afb",
        "colab": {
          "base_uri": "https://localhost:8080/"
        }
      },
      "execution_count": null,
      "outputs": [
        {
          "output_type": "execute_result",
          "data": {
            "text/plain": [
              "1651"
            ]
          },
          "metadata": {},
          "execution_count": 11
        }
      ]
    },
    {
      "cell_type": "code",
      "source": [
        "# создаем словарь как множество слов\n",
        "vocab = set(['<unk>', '<bos>', '<eos>', '<pad>'])\n",
        "# будем добавлять в словарь только те слова, которые\n",
        "# встречались в обучающих данных не менее 25 раз\n",
        "counter_threshold = 25\n",
        "\n",
        "# пополняем словарь словами из words\n",
        "for char, cnt in words.items():\n",
        "    if cnt > counter_threshold:\n",
        "        vocab.add(char)"
      ],
      "metadata": {
        "id": "bVmeX2LCPEjJ"
      },
      "execution_count": null,
      "outputs": []
    },
    {
      "cell_type": "code",
      "source": [
        "word2ind = {char: i for i, char in enumerate(vocab)}\n",
        "ind2word = {i: char for char, i in word2ind.items()}"
      ],
      "metadata": {
        "id": "qy5vYwUfPCLk"
      },
      "execution_count": null,
      "outputs": []
    },
    {
      "cell_type": "code",
      "source": [
        "def collate_fn_with_padding(input_batch, max_len=256):\n",
        "    # input_batch — батч пар (токенизированный текст, label)\n",
        "    texts = [x[0] for x in input_batch]\n",
        "    labels = [x[1] for x in input_batch]\n",
        "    # для каждого элемента батча получаем длину токенизированного текста в токенах\n",
        "    seq_lens = [len(x) for x in texts]\n",
        "    # определяем максимальную длину элементов в текущем батче\n",
        "    max_seq_len = min(max(seq_lens), max_len)\n",
        "\n",
        "    # проходимся по элементам батча и заменяем токены на их индексы из словаря\n",
        "    # также последовательности короче max_seq_len дополняем токенами <pad>\n",
        "    processed_texts = []\n",
        "    for text, label in zip(texts, labels):\n",
        "        text = text[:max_seq_len]\n",
        "        text = [word2ind[x] if x in vocab else word2ind['<unk>'] for x in text]\n",
        "        for _ in range(max_seq_len - len(text)):\n",
        "            text.append(word2ind['<pad>'])\n",
        "\n",
        "        processed_texts.append(text)\n",
        "\n",
        "    # переводим элементы батча в форматы тензоров\n",
        "    processed_texts = torch.LongTensor(processed_texts).to(device)\n",
        "    labels = torch.LongTensor(labels).to(device)\n",
        "\n",
        "    # собираем батч\n",
        "    processed_batch = {\n",
        "        'input_ids': processed_texts,\n",
        "        'label': labels\n",
        "    }\n",
        "\n",
        "    return processed_batch"
      ],
      "metadata": {
        "id": "9RvDcgzQO-QR"
      },
      "execution_count": null,
      "outputs": []
    },
    {
      "cell_type": "code",
      "source": [
        "# поделим тестовые данные на val и train\n",
        "np.random.seed(42)\n",
        "val_indices = np.random.choice(np.arange(len(train_data)), 500)\n",
        "train_indices = [x for x in range(len(train_data)) if x not in val_indices]\n",
        "val_data = [train_data[i] for i in val_indices]\n",
        "train_data = [train_data[i] for i in train_indices]\n",
        "\n",
        "# заводим даталоадеры\n",
        "batch_size = 128\n",
        "train_dataloader = DataLoader(\n",
        "    train_data, shuffle=True, collate_fn=collate_fn_with_padding, batch_size=batch_size)\n",
        "\n",
        "val_dataloader = DataLoader(\n",
        "    val_data, shuffle=False, collate_fn=collate_fn_with_padding, batch_size=batch_size)\n",
        "\n",
        "test_dataloader = DataLoader(\n",
        "    test_data, shuffle=False, collate_fn=collate_fn_with_padding, batch_size=batch_size)"
      ],
      "metadata": {
        "id": "Ei-IQ9RXO5tp"
      },
      "execution_count": null,
      "outputs": []
    },
    {
      "cell_type": "code",
      "source": [
        "len(val_dataloader)"
      ],
      "metadata": {
        "id": "Q3oI7d1jWEMA",
        "outputId": "953ac11d-e756-411e-da1d-653ab4be564d",
        "colab": {
          "base_uri": "https://localhost:8080/"
        }
      },
      "execution_count": null,
      "outputs": [
        {
          "output_type": "execute_result",
          "data": {
            "text/plain": [
              "4"
            ]
          },
          "metadata": {},
          "execution_count": 18
        }
      ]
    },
    {
      "cell_type": "code",
      "source": [
        "len(test_data)"
      ],
      "metadata": {
        "id": "udtedPauWH83",
        "outputId": "49db5c1e-d874-4018-e2bc-b3e73edc4d52",
        "colab": {
          "base_uri": "https://localhost:8080/"
        }
      },
      "execution_count": null,
      "outputs": [
        {
          "output_type": "execute_result",
          "data": {
            "text/plain": [
              "1651"
            ]
          },
          "metadata": {},
          "execution_count": 19
        }
      ]
    },
    {
      "cell_type": "markdown",
      "source": [
        "Ваша задача — обучить RNN-модель на тренировочных данных и получить максимальное возможное accuracy на тестовой части данных. За основу можно взять код с занятия. **Обратите внимание, что здесь у нас задача классификации на 8 классов, а не на 2, как было на занятии.**\n",
        "\n",
        "Чтобы улучшить качество базовой модели, можно попробовать различные идеи экспериментов. Вот несколько идей:\n",
        "* **Модель RNN**. Попробуйте LSTM и GRU. Мы советуем обратить внимание на [GRU](https://pytorch.org/docs/stable/generated/torch.nn.GRU.html), так как интерфейс этого класса ничем не отличается от обычной Vanilla RNN, которую мы использовали на семинаре.\n",
        "* **Увеличение количества рекуррентных слоев модели**. Это можно сделать с помощью параметра `num_layers` в классе `nn.RNN`. В такой модели выходы первой RNN передаются в качестве входов второй RNN и так далее.\n",
        "* **Изменение вида агрреграции выхода RNN**. В семинаре мы пробовали аггрегировать выходы RNN с помощью max, mean и получения последнего выхода. Можно попробовать другие варианты. Например, конкатенировать результат агрегации и эмбеддинг с последнего токена.\n",
        "* **Подбор гиперпараметров и обучение до сходимости**. Можно, например, увеличить количество эпох обучения нейросети, а также попробовать различные гиперпараметры: размер словаря, `dropout_rate`, `hidden_dim`."
      ],
      "metadata": {
        "id": "bDuUq1f8naTk"
      }
    },
    {
      "cell_type": "code",
      "source": [
        "import torch\n",
        "import torch.nn as nn\n",
        "import torch.nn.functional as F\n",
        "\n",
        "class ImprovedRNN(nn.Module):\n",
        "    def __init__(\n",
        "        self, hidden_dim, vocab_size, num_classes,\n",
        "        aggregation_type='last', num_layers=4, dropout_rate=0.001\n",
        "    ):\n",
        "        super(ImprovedRNN, self).__init__()\n",
        "        self.embedding = nn.Embedding(vocab_size, hidden_dim)\n",
        "        self.rnn = nn.GRU(hidden_dim, hidden_dim, num_layers=num_layers, batch_first=True)\n",
        "        self.fc1 = nn.Linear(hidden_dim, hidden_dim)\n",
        "        self.fc2 = nn.Linear(hidden_dim, num_classes)\n",
        "        self.dropout = nn.Dropout(p=dropout_rate)\n",
        "        self.aggregation_type = aggregation_type\n",
        "\n",
        "    def forward(self, input_batch):\n",
        "        embeddings = self.embedding(input_batch)\n",
        "        output, _ = self.rnn(embeddings)\n",
        "\n",
        "        if self.aggregation_type == 'max':\n",
        "            output = output.max(dim=1)[0]\n",
        "        elif self.aggregation_type == 'mean':\n",
        "            output = output.mean(dim=1)\n",
        "        elif self.aggregation_type == 'last':\n",
        "            output = output[:, -1, :]\n",
        "        else:\n",
        "            raise ValueError(\"Invalid aggregation_type\")\n",
        "\n",
        "        output = F.tanh(output)\n",
        "        output = F.tanh(self.dropout(self.fc1(output)))\n",
        "        output = self.fc2(output)\n",
        "\n",
        "        return output"
      ],
      "metadata": {
        "id": "6ZLUHhbhNtAR"
      },
      "execution_count": null,
      "outputs": []
    },
    {
      "cell_type": "code",
      "source": [
        "def evaluate(model, dataloader):\n",
        "    \"\"\"\n",
        "    Calculate accuracy on data from dataloader.\n",
        "    \"\"\"\n",
        "\n",
        "    predictions = []\n",
        "    target = []\n",
        "    with torch.no_grad():\n",
        "        for batch in tqdm_notebook(dataloader,\n",
        "                                   desc=f'Evaluating'):\n",
        "            logits = model(batch['input_ids'])\n",
        "            predictions.append(logits.argmax(dim=1))\n",
        "            target.append(batch['label'])\n",
        "\n",
        "    predictions = torch.cat(predictions)\n",
        "    target = torch.cat(target)\n",
        "    accuracy = (predictions == target).float().mean().item()\n",
        "\n",
        "    return accuracy"
      ],
      "metadata": {
        "id": "dnMUykcvOcHJ"
      },
      "execution_count": null,
      "outputs": []
    },
    {
      "cell_type": "code",
      "source": [
        "def train(model, optimizer, criterion, num_epoch=5, eval_steps=100):\n",
        "\n",
        "    losses = []\n",
        "    accs_train = []\n",
        "    accs_val = []\n",
        "\n",
        "    for epoch in range(num_epoch):\n",
        "        epoch_losses = []\n",
        "        model.train()\n",
        "        for i, batch in enumerate(tqdm_notebook(train_dataloader,\n",
        "                                                desc=f'Training epoch {epoch}:')):\n",
        "            optimizer.zero_grad()\n",
        "            logits = model(batch['input_ids'])\n",
        "            loss = criterion(logits, batch['label'])\n",
        "            loss.backward()\n",
        "            optimizer.step()\n",
        "\n",
        "            epoch_losses.append(loss.item())\n",
        "            if i % eval_steps == 0:\n",
        "                model.eval()\n",
        "                accs_train.append(evaluate(model, train_dataloader))\n",
        "                accs_val.append(evaluate(model, val_dataloader))\n",
        "                model.train()\n",
        "\n",
        "        losses.append(sum(epoch_losses) / len(epoch_losses))\n",
        "\n",
        "    return losses, accs_train, accs_val"
      ],
      "metadata": {
        "id": "Y3aCht39Og8d"
      },
      "execution_count": null,
      "outputs": []
    },
    {
      "cell_type": "code",
      "source": [
        "num_epoch = 10\n",
        "eval_steps = len(train_dataloader) // 2\n",
        "\n",
        "\n",
        "losses_type = {}\n",
        "accs_train_type = {}\n",
        "accs_val_type = {}\n",
        "\n",
        "for aggregation_type in ['max', 'mean', 'last']:\n",
        "    print(f\"Starting training for {aggregation_type}\")\n",
        "    losses = []\n",
        "    acc = []\n",
        "\n",
        "    model = ImprovedRNN(hidden_dim=512,\n",
        "                      vocab_size=len(vocab),\n",
        "                      num_classes=8,\n",
        "                      aggregation_type=aggregation_type\n",
        "                      ).to(device)\n",
        "    criterion = nn.CrossEntropyLoss(ignore_index=word2ind['<pad>'])\n",
        "    optimizer = torch.optim.Adam(model.parameters())\n",
        "\n",
        "    losses, accs_train, accs_val = train(model,\n",
        "                                         optimizer,\n",
        "                                         criterion,\n",
        "                                         num_epoch=15,\n",
        "                                         eval_steps=len(train_dataloader) // 2)\n",
        "     #, accs_val = train(model,\n",
        "\n",
        "    losses_type[aggregation_type] = losses\n",
        "    accs_train_type[aggregation_type] = accs_train\n",
        "    accs_val_type[aggregation_type] = accs_val"
      ],
      "metadata": {
        "id": "e1Eqe94vPeRx"
      },
      "execution_count": null,
      "outputs": []
    },
    {
      "cell_type": "code",
      "source": [
        "for aggregation_type in ['max', 'mean', 'last']:\n",
        "    plt.plot(losses_type[aggregation_type])\n",
        "plt.title('Losses')\n",
        "plt.legend(['max', 'mean', 'last'])\n",
        "plt.show()\n",
        "\n",
        "for aggregation_type in ['max', 'mean', 'last']:\n",
        "    plt.plot(accs_train_type[aggregation_type])\n",
        "plt.title('Train accs')\n",
        "plt.legend(['max', 'mean', 'last'])\n",
        "plt.show()\n",
        "\n",
        "for aggregation_type in ['max', 'mean', 'last']:\n",
        "    plt.plot(accs_val_type[aggregation_type])\n",
        "plt.title('Val accs')\n",
        "plt.legend(['max', 'mean', 'last'])\n",
        "plt.show()"
      ],
      "metadata": {
        "id": "w7SfiTZ7aOM1"
      },
      "execution_count": null,
      "outputs": []
    },
    {
      "cell_type": "markdown",
      "source": [
        "## Сдача задания"
      ],
      "metadata": {
        "id": "pBtVCQgyWIgh"
      }
    },
    {
      "cell_type": "markdown",
      "source": [
        "Ниже приведена функция, которую вам необходимо запустить для обученной модели, чтобы получить предсказания на тестовой выборке. Здесь model — ваша обученная модель, dataloader — test_dataloader, построенный на основе тестовой части данных (dataset['test']):"
      ],
      "metadata": {
        "id": "TgYILx8NWFdg"
      }
    },
    {
      "cell_type": "code",
      "source": [
        "def get_predictions(model, dataloader):\n",
        "    \"\"\"\n",
        "    Calculate accuracy on data from dataloader.\n",
        "    \"\"\"\n",
        "\n",
        "    model.eval()\n",
        "    predictions = []\n",
        "    with torch.no_grad():\n",
        "        for batch in tqdm_notebook(dataloader,\n",
        "                                   desc=f'Evaluating'):\n",
        "            logits = model(batch['input_ids'])\n",
        "            predictions.append(logits.argmax(dim=1))\n",
        "\n",
        "    predictions = torch.cat(predictions).data.cpu().numpy()\n",
        "\n",
        "    return predictions"
      ],
      "metadata": {
        "id": "rpJVieGAGIHO"
      },
      "execution_count": null,
      "outputs": []
    },
    {
      "cell_type": "code",
      "source": [
        "predictions = get_predictions(model, test_dataloader)\n",
        "predictions = [label_to_writers[x] for x in predictions]\n",
        "predictions"
      ],
      "metadata": {
        "id": "dp9EIhXwGaAy"
      },
      "execution_count": null,
      "outputs": []
    },
    {
      "cell_type": "code",
      "source": [
        "len(predictions)"
      ],
      "metadata": {
        "id": "wBHm9MJ_VjUE",
        "outputId": "797f675f-554f-4fc8-f01b-ea6829aa9aed",
        "colab": {
          "base_uri": "https://localhost:8080/"
        }
      },
      "execution_count": null,
      "outputs": [
        {
          "output_type": "execute_result",
          "data": {
            "text/plain": [
              "1651"
            ]
          },
          "metadata": {},
          "execution_count": 67
        }
      ]
    },
    {
      "cell_type": "code",
      "source": [
        "np.save('submission_hw07.npy', predictions, allow_pickle=True)\n",
        "print('Ответ сохранен в файл `submission_hw07.npy`')"
      ],
      "metadata": {
        "colab": {
          "base_uri": "https://localhost:8080/"
        },
        "id": "sKHZrayRVf61",
        "outputId": "eaa8834d-1ed7-4416-da19-24fcab6cfb81"
      },
      "execution_count": null,
      "outputs": [
        {
          "output_type": "stream",
          "name": "stdout",
          "text": [
            "Ответ сохранен в файл `submission_hw07.npy`\n"
          ]
        }
      ]
    }
  ]
}